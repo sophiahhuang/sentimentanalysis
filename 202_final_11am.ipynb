{
 "cells": [
  {
   "cell_type": "markdown",
   "metadata": {
    "colab_type": "text",
    "id": "4SFhhs8fPDep"
   },
   "source": [
    "# Data scraping functions"
   ]
  },
  {
   "cell_type": "code",
   "execution_count": 1,
   "metadata": {
    "colab": {
     "base_uri": "https://localhost:8080/",
     "height": 309
    },
    "colab_type": "code",
    "id": "DWe5_D8UPDev",
    "outputId": "39f38ef0-53c4-4ca8-c281-4918dc39a5a7"
   },
   "outputs": [],
   "source": [
    "#!pip install TwitterSearch\n",
    "from TwitterSearch import *\n",
    "import time\n",
    "import datetime\n",
    "import json\n",
    "import pandas as pd\n",
    "from pandas import *\n",
    "import os\n",
    "import os.path\n",
    "import re\n",
    "import matplotlib.pyplot as plt\n",
    "import descartes\n",
    "import geopandas as gpd\n",
    "from shapely.geometry import Point\n",
    "import seaborn as sns\n",
    "import emoji\n",
    "import regex\n",
    "\n",
    "# Ensure that we can see full tweets\n",
    "pd.set_option('max_colwidth', 350)"
   ]
  },
  {
   "cell_type": "code",
   "execution_count": 2,
   "metadata": {
    "colab": {},
    "colab_type": "code",
    "id": "c02FdKihPDfB"
   },
   "outputs": [],
   "source": [
    "def scrapeTweets (jsonFile, ORkeyword_list, AND_word_list = None,geocode = None, startDate = None, endDate = None):\n",
    "    try:\n",
    "        \n",
    "        ts = TwitterSearch(\n",
    "            consumer_key = 'bQsdYC4VOaQEYzJc0GlS5Kjox',\n",
    "            consumer_secret = 'sa3S0K38teo6XYZYitM7nW5fcvh8A64O36zYBD4gJ7Woxqr6ku',\n",
    "            access_token = '1190054573764820993-9BSNn5ix5WkdoSdHitZcdSxCqZJLIi',\n",
    "            access_token_secret = 'noOLWmmarQTCBcJnt668pNmRhcfJfQmtIRtSj7V2NbzrG'\n",
    "         )\n",
    "\n",
    "        \n",
    "        tso = TwitterSearchOrder()\n",
    "        tso.set_count(100)\n",
    "        tso.set_language('en')                               # Set the language \n",
    "        tso.set_keywords(ORkeyword_list, or_operator = True)\n",
    "        \n",
    "        if(AND_word_list):\n",
    "            tso.add_keyword(AND_word_list)\n",
    "        \n",
    "        if(geocode):\n",
    "            lat = geocode[0]\n",
    "            long = geocode[1]\n",
    "            radius = geocode[2]\n",
    "            tso.set_geocode(lat, long, radius, imperial_metric=True)\n",
    "    \n",
    "        if(startDate):\n",
    "            tso.set_since(datetime.date(startDate))\n",
    "        \n",
    "        if(endDate):\n",
    "            tso.set_until(datetime.date(endDate))\n",
    "\n",
    "        \n",
    "        if os.path.isfile(jsonFile) == False:\n",
    "            firstwrite = open(jsonFile, 'w')\n",
    "            firstwrite.write(\"[\")\n",
    "            firstwrite.close()\n",
    "        \n",
    "        f = open(jsonFile, 'a') #opening the file     \n",
    "        for tweet in ts.search_tweets_iterable(tso): #, callback=my_callback_closure):\n",
    "#             print(tweet)\n",
    "            json.dump(tweet, f)\n",
    "            f.write(\",\")\n",
    "        f.seek(0, os.SEEK_END)\n",
    "        f.seek(f.tell() - 1, os.SEEK_SET)\n",
    "        f.truncate()\n",
    "        \n",
    "        f.close()\n",
    "\n",
    "    except TwitterSearchException as e:\n",
    "        print(e)"
   ]
  },
  {
   "cell_type": "code",
   "execution_count": 3,
   "metadata": {
    "colab": {},
    "colab_type": "code",
    "id": "m4lzzCxSPDfJ"
   },
   "outputs": [],
   "source": [
    "def cleaning(text):\n",
    "\n",
    "    import string\n",
    "    exclude = set(string.punctuation)\n",
    "\n",
    "    import re\n",
    "    # remove new line and digits with regular expression\n",
    "    text = re.sub(r'\\n', '', text)\n",
    "    text = re.sub(r'\\d', '', text)\n",
    "    # remove patterns matching url format\n",
    "    url_pattern = r'((http|ftp|https):\\/\\/)?[\\w\\-_]+(\\.[\\w\\-_]+)+([\\w\\-\\.,@?^=%&amp;:/~\\+#]*[\\w\\-\\@?^=%&amp;/~\\+#])?'\n",
    "    text = re.sub(url_pattern, ' ', text)\n",
    "    # standardize white space\n",
    "    text = re.sub(r'\\s+', ' ', text)\n",
    "    #remove white space\n",
    "    text = text.strip()\n",
    "\n",
    "    return text"
   ]
  },
  {
   "cell_type": "code",
   "execution_count": 4,
   "metadata": {
    "colab": {},
    "colab_type": "code",
    "id": "3STVBzqSPDfP"
   },
   "outputs": [],
   "source": [
    "#Tweet information : Returns a Dataframe \n",
    "\n",
    "def parse_tweets(all_tweets):\n",
    "    #General information regarding each tweet.\n",
    "    tweetid =  [tweet['id'] for tweet in all_tweets]\n",
    "    time = [pd.to_datetime(tweet['created_at']) for tweet in all_tweets]\n",
    "    text = [tweet['text'] if 'text' in tweet else tweet['full_text'] for tweet in all_tweets]\n",
    "    Hashtags = [tweet['entities']['hashtags'] for tweet in all_tweets]\n",
    "    source= [tweet['source'] for tweet in all_tweets]\n",
    "    retweet_count = [tweet['retweet_count'] for tweet in all_tweets]\n",
    "    favorite_count = [tweet['favorite_count'] for tweet in all_tweets]\n",
    "    \n",
    "    #User profile information\n",
    "    User_allinfo = [tweet['user'] for tweet in all_tweets]\n",
    "\n",
    "    Username = [tweet['user']['name'] for tweet in all_tweets]\n",
    "    Screen_name = [tweet['user']['screen_name'] for tweet in all_tweets]\n",
    "\n",
    "    User_location = [tweet['user']['location'] for tweet in all_tweets]\n",
    "    followers_count = [tweet['user']['followers_count'] for tweet in all_tweets]\n",
    "    friends_count = [tweet['user']['friends_count'] for tweet in all_tweets]\n",
    "    \n",
    "    Geo_enabled = [tweet['user']['geo_enabled'] for tweet in all_tweets]\n",
    "\n",
    "    #Tweet location : place \n",
    "    Geo = [tweet['geo'] for tweet in all_tweets]\n",
    "    Coordinates = [tweet['coordinates'] for tweet in all_tweets]\n",
    "    Place = [tweet['place'] for tweet in all_tweets]\n",
    "    \n",
    "\n",
    "    TravelTweets = pd.DataFrame({'Time':time,'source':source,'Username':Username,'Screen_name':Screen_name,'User_location':User_location,'Text':text,'Hashtags':Hashtags,'Geo_enabled':Geo_enabled,'Geo':Geo,'Coordinates':Coordinates,'Place':Place,'retweet_count':retweet_count,'followers_count':followers_count,'friends_count':friends_count,'tweet_favourite_count':favorite_count,'User_allinfo':User_allinfo}, index=tweetid) #.sort_index(ascending=True)\n",
    "    \n",
    "    cleaner = lambda x: cleaning(x)\n",
    "    TravelTweets['Text'] = TravelTweets['Text'].apply(cleaner)\n",
    "    # Replace and remove empty rows\n",
    "    TravelTweets['Text'] = TravelTweets['Text'].replace('', np.nan)\n",
    "#     TravelTweets = TravelTweets.dropna(how='any')\n",
    "    \n",
    "    #return TravelTweets[:1000]\n",
    "    return TravelTweets"
   ]
  },
  {
   "cell_type": "code",
   "execution_count": 5,
   "metadata": {
    "colab": {},
    "colab_type": "code",
    "id": "kbFE2IowPDfV"
   },
   "outputs": [],
   "source": [
    "#Reading all the tweets from the json file.\n",
    "\n",
    "def extractFromJson(filename) :\n",
    "    with open(filename,\"r\") as read_file:\n",
    "        all_tweets = json.load(read_file)\n",
    "        return all_tweets"
   ]
  },
  {
   "cell_type": "code",
   "execution_count": 6,
   "metadata": {},
   "outputs": [],
   "source": [
    "def addlastbraq():\n",
    "#     path = \".//Desktop//Courses//202//Project//new_tweets\"\n",
    "#     file = os.listdir(path)\n",
    "    \n",
    "    for file in os.listdir(os.getcwd()): \n",
    "        if file.endswith(\".json\"):  #Check if the file name matches the 'prefix' pattern.\n",
    "            f = open(file,'a')    #remove the comment to run it\n",
    "            f.write(\"]\")\n",
    "            f.close()\n",
    "    \n",
    "# addlastbraq()  #remove the comment to run it \n",
    "\n",
    "# os.getcwd()"
   ]
  },
  {
   "cell_type": "code",
   "execution_count": 7,
   "metadata": {},
   "outputs": [],
   "source": [
    "### Remove the final ']'  from the end of the json\n",
    "#### Only use when need be.\n",
    "\n",
    "def removelastbraq():\n",
    "#     path = \"./Desktop/Documents/MIMS-1/INFO202\"\n",
    "#     file = os.listdir(path)\n",
    "    \n",
    "    for file in os.listdir(os.getcwd()): \n",
    "        if file.endswith(\".json\"):  #Check if the file name matches the 'prefix' pattern.\n",
    "#             f = open(file,'a')    #remove the comment to run it \n",
    "            f.seek(0, os.SEEK_END)\n",
    "            f.seek(f.tell() - 1, os.SEEK_SET)\n",
    "            f.truncate()\n",
    "        \n",
    "            f.close()\n",
    "    \n",
    "    \n",
    "# removelastbraq() #remove the comment to run it \n",
    "\n",
    "# os.getcwd()"
   ]
  },
  {
   "cell_type": "markdown",
   "metadata": {
    "colab_type": "text",
    "id": "IedxueK2PDfb"
   },
   "source": [
    "# Scraping data"
   ]
  },
  {
   "cell_type": "code",
   "execution_count": 8,
   "metadata": {},
   "outputs": [],
   "source": [
    "import os"
   ]
  },
  {
   "cell_type": "markdown",
   "metadata": {},
   "source": [
    "### Scraping with location only"
   ]
  },
  {
   "cell_type": "code",
   "execution_count": 9,
   "metadata": {
    "colab": {},
    "colab_type": "code",
    "id": "yDGdJ_7bPDfc"
   },
   "outputs": [],
   "source": [
    "# scrapeTweets(\"pyramids.json\", [], [], [29.9792, 31.1342, 2])\n",
    "# scrapeTweets(\"colosseum.json\", [], [], [41.8902, 12.4922, 2])    \n",
    "# scrapeTweets(\"eiffel.json\", [], [], [48.8584, 2.2945, 2])"
   ]
  },
  {
   "cell_type": "code",
   "execution_count": 10,
   "metadata": {
    "colab": {},
    "colab_type": "code",
    "id": "Ay9HF211PDfh"
   },
   "outputs": [],
   "source": [
    "# scrapeTweets(\"tablemt.json\", [], [], [-33.918861, 18.4233, 2])\n",
    "# scrapeTweets(\"machu.json\", [], [], [-13.163068, -72.545128, 2])\n",
    "# scrapeTweets(\"statueliberty.json\", [], [], [40.6892, -74.0445, 2])\n"
   ]
  },
  {
   "cell_type": "code",
   "execution_count": 11,
   "metadata": {
    "colab": {},
    "colab_type": "code",
    "id": "OTHUvHSOPDfm"
   },
   "outputs": [],
   "source": [
    "# scrapeTweets(\"angkor.json\", [], [], [13.4125, 103.867, 2])\n",
    "# scrapeTweets(\"hiroshima.json\", [], [], [34.3955, 132.4512, 2])\n",
    "# scrapeTweets(\"mlk.json\", [], [], [38.8862, -77.044234, 2])\n",
    "# scrapeTweets(\"victoriafalls.json\", [], [], [-17.924444, 25.8572, 2])"
   ]
  },
  {
   "cell_type": "code",
   "execution_count": 12,
   "metadata": {},
   "outputs": [],
   "source": [
    "# #Just by Geocode.\n",
    "\n",
    "# # for i in range(0,3):\n",
    "# #   #Destination: Sagrada Família church\n",
    "# # scrapeTweets(\"Barca_geocode.json\", ['*'],[],[41.40,2.17,2])\n",
    "\n",
    "# #   #Destination: 9/11 Memorial\n",
    "# scrapeTweets(\"911_memorial_geocode.json\", ['*'],[],[40.7115,-74.012725,2])\n",
    "\n",
    "# #   #Destination: Burj Khalifa \n",
    "# scrapeTweets(\"Burj_khalifa_geocode.json\", ['*'],[],[25.1972,55.2744,2])\n",
    "\n",
    "# #     #Destination: Auschwitz-Birkenau State Museum, Poland\n",
    "# scrapeTweets(\"Poland_geocode.json\", ['*'],[],[50.0348,19.1737,2])\n",
    "\n",
    "# #     #Destination : Sydney Opera House\n",
    "# scrapeTweets(\"Sydney_Opera_geocode.json\", ['*'],[],[-33.856159,151.215256,2])\n",
    "\n",
    "# #     #Destination : Taj Mahal\n",
    "# scrapeTweets(\"Taj_mahal_geocode.json\", ['*'],[],[27.1751,78.0421,2])\n",
    "\n",
    "# #     #Destination : Old Havana\n",
    "# scrapeTweets(\"Havana_geocode.json\", ['*'],[],[23.1344,-82.3533,2])\n",
    "\n",
    "# #     #Destination : Golden Gate Bridge\n",
    "# scrapeTweets(\"Golden_Gate_geocode.json\", ['*'],[],[37.8199,-122.4783,2])\n",
    "\n",
    "# #     #Destination : Saint Basil's Cathedral, Russia\n",
    "# scrapeTweets(\"Saint_Basil_geocode.json\", ['*'],[],[55.7525,37.6231,2])\n",
    "\n",
    "# #     #Destination : Yellowstone National Park\n",
    "# scrapeTweets(\"YellowStone_geocode.json\", ['*'],[],[44.428,-110.5885,2])\n"
   ]
  },
  {
   "cell_type": "code",
   "execution_count": 13,
   "metadata": {},
   "outputs": [],
   "source": [
    "#add last bracket\n",
    "# addlastbraq()  #remove the comment to run it \n"
   ]
  },
  {
   "cell_type": "code",
   "execution_count": 14,
   "metadata": {},
   "outputs": [],
   "source": [
    "#Reads a json file and loads it in a list.\n",
    "mlk_tweets = extractFromJson(\"mlk.json\")\n",
    "hiroshima_tweets = extractFromJson(\"hiroshima.json\")\n",
    "angkor_tweets = extractFromJson(\"angkor.json\")\n",
    "victoriafalls_tweets = extractFromJson(\"victoriafalls.json\")\n",
    "statueliberty_tweets = extractFromJson(\"statueliberty.json\")\n",
    "machu_tweets = extractFromJson(\"machu.json\")\n",
    "tablemt_tweets = extractFromJson(\"tablemt.json\")\n",
    "eiffel_tweets = extractFromJson(\"eiffel.json\")\n",
    "colosseum_tweets = extractFromJson(\"colosseum.json\")\n",
    "pyramids_tweets = extractFromJson(\"pyramids.json\")\n",
    "\n",
    "Barcelona_Tweet_geocode = extractFromJson(\"Barca_geocode.json\")\n",
    "NYC_memorial_tweets_geocode = extractFromJson(\"911_memorial_geocode.json\")\n",
    "Burj_khalifa_tweets_geocode = extractFromJson(\"Burj_khalifa_geocode.json\")\n",
    "Poland_tweets_geocode = extractFromJson(\"Poland_geocode.json\")\n",
    "Sydney_Opera_tweets_geocode = extractFromJson(\"Sydney_Opera_geocode.json\")\n",
    "Taj_mahal_tweets_geocode = extractFromJson(\"Taj_mahal_geocode.json\")\n",
    "Havana_tweets_geocode = extractFromJson(\"Havana_geocode.json\")\n",
    "Golden_Gate_tweets_geocode = extractFromJson(\"Golden_Gate_geocode.json\")\n",
    "Saint_Basil_tweets_geocode = extractFromJson(\"Saint_Basil_geocode.json\")\n",
    "YellowStone_tweets_geocode = extractFromJson(\"YellowStone_geocode.json\")\n"
   ]
  },
  {
   "cell_type": "code",
   "execution_count": 15,
   "metadata": {},
   "outputs": [],
   "source": [
    "# takes the content and returns a dateframe of relevant columns.\n",
    "MLKTweets1 = parse_tweets(mlk_tweets)\n",
    "HiroshimaTweets1 = parse_tweets(hiroshima_tweets)\n",
    "AngkorTweets1 = parse_tweets(angkor_tweets)\n",
    "VictoriaTweets1 = parse_tweets(victoriafalls_tweets)\n",
    "StatueLibertyTweets1 = parse_tweets(statueliberty_tweets)\n",
    "MachuTweets1 = parse_tweets(machu_tweets)\n",
    "TableMtTweets1 = parse_tweets(tablemt_tweets)\n",
    "EiffelTweets1 = parse_tweets(eiffel_tweets)\n",
    "ColosseumTweets1 = parse_tweets(colosseum_tweets)\n",
    "PyramidsTweets1 = parse_tweets(pyramids_tweets)\n"
   ]
  },
  {
   "cell_type": "code",
   "execution_count": 16,
   "metadata": {},
   "outputs": [],
   "source": [
    "Barcelona_Tweet_geocode = parse_tweets(Barcelona_Tweet_geocode)\n",
    "Barcelona_Tweet_geocode['Loc_key'] = 'Location'\n",
    "NYC_memorial_tweets_geocode = parse_tweets(NYC_memorial_tweets_geocode)\n",
    "NYC_memorial_tweets_geocode['Loc_key'] = 'Location'\n",
    "Burj_khalifa_tweets_geocode = parse_tweets(Burj_khalifa_tweets_geocode)\n",
    "Burj_khalifa_tweets_geocode['Loc_key'] = 'Location'\n",
    "Poland_tweets_geocode = parse_tweets(Poland_tweets_geocode)\n",
    "Poland_tweets_geocode['Loc_key'] = 'Location'\n",
    "Sydney_Opera_tweets_geocode = parse_tweets(Sydney_Opera_tweets_geocode)\n",
    "Sydney_Opera_tweets_geocode['Loc_key'] = 'Location'\n",
    "Taj_mahal_tweets_geocode = parse_tweets(Taj_mahal_tweets_geocode)\n",
    "Taj_mahal_tweets_geocode['Loc_key'] = 'Location'\n",
    "Havana_tweets_geocode = parse_tweets(Havana_tweets_geocode)\n",
    "Havana_tweets_geocode['Loc_key'] = 'Location'\n",
    "Golden_Gate_tweets_geocode = parse_tweets(Golden_Gate_tweets_geocode)\n",
    "Golden_Gate_tweets_geocode['Loc_key'] = 'Location'\n",
    "Saint_Basil_tweets_geocode = parse_tweets(Saint_Basil_tweets_geocode)\n",
    "Saint_Basil_tweets_geocode['Loc_key'] = 'Location'\n",
    "YellowStone_tweets_geocode = parse_tweets(YellowStone_tweets_geocode)\n",
    "YellowStone_tweets_geocode['Loc_key'] = 'Location'"
   ]
  },
  {
   "cell_type": "code",
   "execution_count": 17,
   "metadata": {},
   "outputs": [
    {
     "name": "stdout",
     "output_type": "stream",
     "text": [
      "86\n",
      "175\n",
      "98\n",
      "31\n",
      "75\n",
      "23\n",
      "85\n",
      "76\n",
      "30\n",
      "197\n"
     ]
    }
   ],
   "source": [
    "citylist = [EiffelTweets1, PyramidsTweets1, ColosseumTweets1, MachuTweets1, StatueLibertyTweets1, \n",
    "            AngkorTweets1, HiroshimaTweets1, MLKTweets1, VictoriaTweets1, TableMtTweets1]\n",
    "\n",
    "for i in citylist:\n",
    "    print(len(i))"
   ]
  },
  {
   "cell_type": "code",
   "execution_count": 18,
   "metadata": {},
   "outputs": [],
   "source": [
    "for destination in citylist:\n",
    "    destination['Loc_key'] = \"Location\""
   ]
  },
  {
   "cell_type": "markdown",
   "metadata": {},
   "source": [
    "### Scraping with keyword only"
   ]
  },
  {
   "cell_type": "code",
   "execution_count": 19,
   "metadata": {},
   "outputs": [],
   "source": [
    "# scrapeTweets(\"pyramids2.json\", [\"Great pyramids\", \"Giza pyramids\", \"pyramids of giza\"], [], [])\n",
    "# scrapeTweets(\"colosseum2.json\", [\"Colosseum\", \"Flavian Amphitheatre\", \"Coliseum\"], [\"Rome\"], [])    \n",
    "# scrapeTweets(\"eiffel2.json\", [\"Eiffel tower\", \"Eiffel\"], [], [])"
   ]
  },
  {
   "cell_type": "code",
   "execution_count": 20,
   "metadata": {},
   "outputs": [],
   "source": [
    "# scrapeTweets(\"tablemt2.json\", [\"Table mt\", \"Table mountain\"], [], [])\n",
    "# scrapeTweets(\"machu2.json\", [\"Machu Picchu\", \"Macchu Pichu\", \"Machu Pichu\", \"Macchu Picchu\"], [], [])\n",
    "# scrapeTweets(\"statueliberty2.json\", [\"Statue of Liberty\", \"Lady Liberty\", \"Lady in the Harbor\", \"Torch Girl\", \"Mother of Exiles\"], [], [])"
   ]
  },
  {
   "cell_type": "code",
   "execution_count": 21,
   "metadata": {},
   "outputs": [],
   "source": [
    "# scrapeTweets(\"angkor2.json\", [\"Angkor Wat\", \"Angkor Temple\"], [], [])\n",
    "# scrapeTweets(\"hiroshima2.json\", [\"Hiroshima Peace Memorial\", \"Genbaku Dome\", \"Hiroshima Prefectural Industrial Promotion Hall\", \"Atomic Bomb Dome\", \"A-Bomb Dome\"], [], [])\n",
    "# scrapeTweets(\"mlk2.json\", [\"MLK Memorial\", \"Martin Luther King Jr. Memorial\", \"Martin Luther King Memorial\", \"Martin Luther King Jr Memorial\"], [], [])\n",
    "# scrapeTweets(\"victoriafalls2.json\", [\"Victoria Falls\", \"Mosi-oa-Tunya\", \"Victoria Waterfall\"], [], [])"
   ]
  },
  {
   "cell_type": "code",
   "execution_count": 22,
   "metadata": {},
   "outputs": [],
   "source": [
    "#By kerwords only\n",
    "\n",
    "# for i in range(0,3):\n",
    "#   #Destination: Sagrada Família church\n",
    "# scrapeTweets(\"Barca_keyword.json\", ['Sagrada Família church'],['barcelona'],[])\n",
    "\n",
    "#   #Destination: 9/11 Memorial\n",
    "# scrapeTweets(\"911_memorial_keyword.json\", ['9/11 Memorial Museum'],[],[])\n",
    "\n",
    "# #   #Destination: Burj Khalifa \n",
    "# scrapeTweets(\"Burj_khalifa_keyword.json\", ['burj khalifa'],[],[])\n",
    "\n",
    "# #     #Destination: Auschwitz-Birkenau State Museum, Poland 'auschwitz', 'birkenau', 'nazi','concentration', 'camp','auswitz','auswich', 'jewish',\n",
    "# scrapeTweets(\"Poland_keyword.json\", ['Auschwitz-Birkenau State Museum'],[],[])\n",
    "\n",
    "# #     #Destination : Sydney Opera House , 'opera', 'mystical'\n",
    "# scrapeTweets(\"Sydney_Opera_keyword.json\", ['Sydney opera'],[],[])\n",
    "\n",
    "# #     #Destination : Taj Mahal , 'mahal', 'marble','maosoleum', 'jahan','agra', 'emperor'\n",
    "# scrapeTweets(\"Taj_mahal_keyword.json\", ['taj mahal'],['agra'],[])\n",
    "\n",
    "# #     #Destination : Old Havana\n",
    "# scrapeTweets(\"Havana_keyword.json\", ['old havana', 'habana','havana'],[],[])\n",
    "\n",
    "# #     #Destination : Golden Gate Bridge 'SF', 'San Fran', 'Bridge','bay area', 'san francisco','bay'\n",
    "# scrapeTweets(\"Golden_Gate_keyword.json\", ['Golden Gate Bridge', 'SF bridge'],[],[])\n",
    "\n",
    "# #     #Destination : Saint Basil's Cathedral, Russia 'moscow', 'cathedral', 'red square','church'\n",
    "# scrapeTweets(\"Saint_Basil_keyword.json\", ['st basil\\'s cathedral', 'saint basil\\'s cathedral'],[],[])\n",
    "\n",
    "# #     #Destination : Yellowstone National Park  ,'habitat', 'nature','old', 'faithful', 'landscape','wyoming'\n",
    "# scrapeTweets(\"YellowStone_keyword.json\", ['yellow stone'],['national', 'park'],[])\n"
   ]
  },
  {
   "cell_type": "code",
   "execution_count": 23,
   "metadata": {},
   "outputs": [],
   "source": [
    "#add last bracket\n",
    "# addlastbraq()  #remove the comment to run it "
   ]
  },
  {
   "cell_type": "code",
   "execution_count": 24,
   "metadata": {},
   "outputs": [],
   "source": [
    "#Reads a json file and loads it in a list.\n",
    "mlk_tweets2 = extractFromJson(\"mlk2.json\")\n",
    "hiroshima_tweets2 = extractFromJson(\"hiroshima2.json\")\n",
    "angkor_tweets2 = extractFromJson(\"angkor2.json\")\n",
    "victoriafalls_tweets2 = extractFromJson(\"victoriafalls2.json\")\n",
    "statueliberty_tweets2 = extractFromJson(\"statueliberty2.json\")\n",
    "machu_tweets2 = extractFromJson(\"machu2.json\")\n",
    "tablemt_tweets2 = extractFromJson(\"tablemt2.json\")\n",
    "eiffel_tweets2 = extractFromJson(\"eiffel2.json\")\n",
    "colosseum_tweets2 = extractFromJson(\"colosseum2.json\")\n",
    "pyramids_tweets2 = extractFromJson(\"pyramids2.json\")\n",
    "\n",
    "Barcelona_Tweet_keyword = extractFromJson(\"Barca_keyword.json\")\n",
    "NYC_memorial_tweets_keyword = extractFromJson(\"911_memorial_keyword.json\")\n",
    "Burj_khalifa_tweets_keyword = extractFromJson(\"Burj_khalifa_keyword.json\")\n",
    "Poland_tweets_keyword = extractFromJson(\"Poland_keyword.json\")\n",
    "Sydney_Opera_tweets_keyword = extractFromJson(\"Sydney_Opera_keyword.json\")\n",
    "Taj_mahal_tweets_keyword = extractFromJson(\"Taj_mahal_keyword.json\")\n",
    "Havana_tweets_keyword = extractFromJson(\"Havana_keyword.json\")\n",
    "Golden_Gate_tweets_keyword = extractFromJson(\"Golden_Gate_keyword.json\")\n",
    "Saint_Basil_tweets_keyword = extractFromJson(\"Saint_Basil_keyword.json\")\n",
    "YellowStone_tweets_keyword = extractFromJson(\"YellowStone_keyword.json\")"
   ]
  },
  {
   "cell_type": "code",
   "execution_count": 25,
   "metadata": {},
   "outputs": [],
   "source": [
    "# takes the content and returns a dateframe of relevant columns.\n",
    "MLKTweets2 = parse_tweets(mlk_tweets2)\n",
    "HiroshimaTweets2 = parse_tweets(hiroshima_tweets2)\n",
    "AngkorTweets2 = parse_tweets(angkor_tweets2)\n",
    "VictoriaTweets2 = parse_tweets(victoriafalls_tweets2)\n",
    "StatueLibertyTweets2 = parse_tweets(statueliberty_tweets2)\n",
    "MachuTweets2 = parse_tweets(machu_tweets2)\n",
    "TableMtTweets2 = parse_tweets(tablemt_tweets2)\n",
    "EiffelTweets2 = parse_tweets(eiffel_tweets2)\n",
    "ColosseumTweets2 = parse_tweets(colosseum_tweets2)\n",
    "PyramidsTweets2 = parse_tweets(pyramids_tweets2)"
   ]
  },
  {
   "cell_type": "code",
   "execution_count": 26,
   "metadata": {},
   "outputs": [],
   "source": [
    "Barcelona_Tweet_keyword = parse_tweets(Barcelona_Tweet_keyword)\n",
    "Barcelona_Tweet_keyword['Loc_key'] = 'Keyword'\n",
    "NYC_memorial_tweets_keyword = parse_tweets(NYC_memorial_tweets_keyword)\n",
    "NYC_memorial_tweets_keyword['Loc_key'] = 'Keyword'\n",
    "Burj_khalifa_tweets_keyword = parse_tweets(Burj_khalifa_tweets_keyword)\n",
    "Burj_khalifa_tweets_keyword['Loc_key'] = 'Keyword'\n",
    "Poland_tweets_keyword = parse_tweets(Poland_tweets_keyword)\n",
    "Poland_tweets_keyword['Loc_key'] = 'Keyword'\n",
    "Sydney_Opera_tweets_keyword = parse_tweets(Sydney_Opera_tweets_keyword)\n",
    "Sydney_Opera_tweets_keyword['Loc_key'] = 'Keyword'\n",
    "Taj_mahal_tweets_keyword = parse_tweets(Taj_mahal_tweets_keyword)\n",
    "Taj_mahal_tweets_keyword['Loc_key'] = 'Keyword'\n",
    "Havana_tweets_keyword = parse_tweets(Havana_tweets_keyword)\n",
    "Havana_tweets_keyword['Loc_key'] = 'Keyword'\n",
    "Golden_Gate_tweets_keyword = parse_tweets(Golden_Gate_tweets_keyword)\n",
    "Golden_Gate_tweets_keyword['Loc_key'] = 'Keyword'\n",
    "Saint_Basil_tweets_keyword = parse_tweets(Saint_Basil_tweets_keyword)\n",
    "Saint_Basil_tweets_keyword['Loc_key'] = 'Keyword'\n",
    "YellowStone_tweets_keyword = parse_tweets(YellowStone_tweets_keyword)\n",
    "YellowStone_tweets_geocode['Loc_key'] = 'Keyword'\n"
   ]
  },
  {
   "cell_type": "code",
   "execution_count": 27,
   "metadata": {},
   "outputs": [
    {
     "name": "stdout",
     "output_type": "stream",
     "text": [
      "288\n",
      "1003\n",
      "1430\n",
      "1309\n",
      "14600\n",
      "890\n",
      "35\n",
      "79\n",
      "3199\n",
      "1673\n"
     ]
    }
   ],
   "source": [
    "citylist2 = [EiffelTweets2, PyramidsTweets2, ColosseumTweets2, MachuTweets2, StatueLibertyTweets2, \n",
    "            AngkorTweets2, HiroshimaTweets2, MLKTweets2, VictoriaTweets2, TableMtTweets2]\n",
    "\n",
    "for i in citylist2:\n",
    "    print(len(i))"
   ]
  },
  {
   "cell_type": "code",
   "execution_count": 28,
   "metadata": {},
   "outputs": [],
   "source": [
    "for destination in citylist2:\n",
    "    destination['Loc_key'] = \"Keyword\""
   ]
  },
  {
   "cell_type": "markdown",
   "metadata": {},
   "source": [
    "### Combine location data with keyword data"
   ]
  },
  {
   "cell_type": "code",
   "execution_count": 29,
   "metadata": {},
   "outputs": [],
   "source": [
    "EiffelTweets = pd.concat([EiffelTweets1, EiffelTweets2])\n",
    "PyramidsTweets = pd.concat([PyramidsTweets1, PyramidsTweets2])\n",
    "ColosseumTweets = pd.concat([ColosseumTweets1, ColosseumTweets2])\n",
    "MachuTweets = pd.concat([MachuTweets1, MachuTweets2])\n",
    "StatueLibertyTweets = pd.concat([StatueLibertyTweets1, StatueLibertyTweets2])\n",
    "AngkorTweets = pd.concat([AngkorTweets1, AngkorTweets2])\n",
    "HiroshimaTweets = pd.concat([HiroshimaTweets1, HiroshimaTweets2])\n",
    "MLKTweets = pd.concat([MLKTweets1, MLKTweets2])\n",
    "VictoriaTweets = pd.concat([VictoriaTweets1, VictoriaTweets2])\n",
    "TableMtTweets = pd.concat([TableMtTweets1, TableMtTweets2])\n",
    "\n",
    "Barcelona_Tweets =  pd.concat([Barcelona_Tweet_geocode, Barcelona_Tweet_keyword])\n",
    "NYC_memorial_tweets = pd.concat([NYC_memorial_tweets_geocode, NYC_memorial_tweets_keyword ])\n",
    "Burj_khalifa_tweets = pd.concat([Burj_khalifa_tweets_geocode,Burj_khalifa_tweets_keyword ])\n",
    "Poland_tweets = pd.concat([Poland_tweets_geocode, Poland_tweets_keyword ])\n",
    "Sydney_Opera_tweets = pd.concat([Sydney_Opera_tweets_geocode, Sydney_Opera_tweets_keyword ])\n",
    "Taj_mahal_tweets =pd.concat([Taj_mahal_tweets_geocode, Taj_mahal_tweets_keyword ])\n",
    "Havana_tweets = pd.concat([Havana_tweets_geocode, Havana_tweets_keyword ])\n",
    "Golden_Gate_tweets = pd.concat([Golden_Gate_tweets_geocode, Golden_Gate_tweets_keyword ])\n",
    "Saint_Basil_tweets = pd.concat([Saint_Basil_tweets_geocode, Saint_Basil_tweets_keyword ])\n",
    "YellowStone_tweets = pd.concat([YellowStone_tweets_geocode, YellowStone_tweets_keyword],sort = False)"
   ]
  },
  {
   "cell_type": "code",
   "execution_count": 30,
   "metadata": {},
   "outputs": [],
   "source": [
    "destinationlist = [EiffelTweets, PyramidsTweets, ColosseumTweets, MachuTweets, StatueLibertyTweets, \n",
    "                   AngkorTweets, HiroshimaTweets, MLKTweets, VictoriaTweets, TableMtTweets, Barcelona_Tweets, \n",
    "                   NYC_memorial_tweets, Burj_khalifa_tweets, Poland_tweets,Sydney_Opera_tweets, Taj_mahal_tweets, \n",
    "                   Havana_tweets, Golden_Gate_tweets, Saint_Basil_tweets, YellowStone_tweets]"
   ]
  },
  {
   "cell_type": "code",
   "execution_count": 31,
   "metadata": {},
   "outputs": [],
   "source": [
    "\n",
    "cd = EiffelTweets.apply(lambda row: row.astype(str).str.contains('EGYPT', flags=re.IGNORECASE, regex=True).any(), axis=1)\n",
    "# cd"
   ]
  },
  {
   "cell_type": "markdown",
   "metadata": {},
   "source": [
    "### deduplication"
   ]
  },
  {
   "cell_type": "code",
   "execution_count": 32,
   "metadata": {},
   "outputs": [],
   "source": [
    "#deduplication\n",
    "for destination in destinationlist:\n",
    "    destination.drop_duplicates(subset=\"Text\", keep=\"first\", inplace=True)"
   ]
  },
  {
   "cell_type": "code",
   "execution_count": 33,
   "metadata": {},
   "outputs": [],
   "source": [
    "# for i in destinationlist:\n",
    "#     print(len(i))"
   ]
  },
  {
   "cell_type": "markdown",
   "metadata": {},
   "source": [
    "# Creating masterlist"
   ]
  },
  {
   "cell_type": "code",
   "execution_count": 34,
   "metadata": {},
   "outputs": [
    {
     "name": "stdout",
     "output_type": "stream",
     "text": [
      "[['Paris, France', 'Eiffel Tower', 'Landmark', '48.8584', '2.2945'], ['Cairo, Egypt', 'Great Pyramid of Giza', 'Landmark', '29.9792', '31.1342'], ['Rome, Italy', 'Colosseum', 'Landmark', '41.8902', '12.4922'], ['Peru', 'Machu Picchu', 'Landmark', '-13.163068', '-72.545128'], ['New York, USA', 'Statue of Liberty', 'Landmark', '40.6892', '-74.0445'], ['Angkor, Cambodia', 'Angkor Wat', 'Religious', '13.4125', '103.867'], ['Hiroshima, Japan', 'Hiroshima Peace Memorial', 'Memorial', '34.3955', '132.4512'], ['Washington DC, USA', 'Martin Luther King Jr. Memorial', 'Memorial', '38.8862', '-77.044234'], ['Zambezi River, Zimbabwe and Zambia', 'Victoria Falls', 'Nature', '-17.924444', '25.8572'], ['Cape Town, South Africa', 'Table Mountain National Park', 'Nature', '-33.918861', '18.4233'], ['NYC, USA', '9/11 Memorial Museum', 'Memorial', '40.7115', '-74.012725'], ['Barcelona, Spain', 'Sagrada Família church', 'Religious', '41.403664', '2.174391'], ['Dubai, United Arab Emirates', 'Burj Khalifa', 'Landmark', '25.1972', '55.2744'], ['Poland', 'Auschwitz-Birkenau State Museum, Poland', 'Landmark', '50.0348', '19.1737'], ['Sydney, Australia', 'Sydney Opera House', 'Landmark', '-33.856159', '151.215256'], ['Agra, India', 'Taj Mahal', 'Landmark', '27.173891', '78.042068'], ['Havana, Cuba', 'Old Havana', 'Landmark', '23.113592', '-82.366592'], ['San Francisco, USA', 'Golden Gate Bridge', 'Landmark', '37.8185', '-122.4783'], ['Moscow, Russia', \"Saint Basil's Cathedral\", 'Religious', '55.7525', '37.6231'], ['Yellowstone, USA', 'Yellowstone National Park', 'Nature', '44.428', '-110.5885']]\n"
     ]
    },
    {
     "data": {
      "text/plain": [
       "'\\nmasterlist[i][0]: Location\\nmasterlist[i][1]: Destination name\\nmasterlist[i][2]: Destination type\\nmasterlist[i][3]: Latitude\\nmasterlist[i][4]: Longitude\\nmasterlist[i][5]: Emoji dictionary\\nmasterlist[i][6]: Sentiment mean\\n'"
      ]
     },
     "execution_count": 34,
     "metadata": {},
     "output_type": "execute_result"
    }
   ],
   "source": [
    "import csv\n",
    "\n",
    "masterlist = []\n",
    "with open(\"Keywords_Cities - Sheet2.csv\") as csv_file:\n",
    "    csv_reader = csv.reader(csv_file, delimiter=\",\")\n",
    "    for row in csv_reader:\n",
    "        row[0] = row[0].strip()\n",
    "        masterlist.append(row)\n",
    "\n",
    "print(masterlist)\n",
    "\n",
    "\"\"\"\n",
    "masterlist[i][0]: Location\n",
    "masterlist[i][1]: Destination name\n",
    "masterlist[i][2]: Destination type\n",
    "masterlist[i][3]: Latitude\n",
    "masterlist[i][4]: Longitude\n",
    "masterlist[i][5]: Emoji dictionary\n",
    "masterlist[i][6]: Sentiment mean\n",
    "\"\"\""
   ]
  },
  {
   "cell_type": "code",
   "execution_count": 35,
   "metadata": {},
   "outputs": [
    {
     "name": "stdout",
     "output_type": "stream",
     "text": [
      "Eiffel Tower 320\n",
      "Great Pyramid of Giza 474\n",
      "Colosseum 541\n",
      "Machu Picchu 809\n",
      "Statue of Liberty 2677\n",
      "Angkor Wat 486\n",
      "Hiroshima Peace Memorial 112\n",
      "Martin Luther King Jr. Memorial 110\n",
      "Victoria Falls 762\n",
      "Table Mountain National Park 899\n",
      "9/11 Memorial Museum 182\n",
      "Sagrada Família church 217\n",
      "Burj Khalifa 810\n",
      "Auschwitz-Birkenau State Museum, Poland 14\n",
      "Sydney Opera House 312\n",
      "Taj Mahal 277\n",
      "Old Havana 688\n",
      "Golden Gate Bridge 955\n",
      "Saint Basil's Cathedral 144\n",
      "Yellowstone National Park 36\n"
     ]
    }
   ],
   "source": [
    "#Checking counts\n",
    "for i in range(len(destinationlist)):\n",
    "    print(masterlist[i][1], len(destinationlist[i]))\n"
   ]
  },
  {
   "cell_type": "markdown",
   "metadata": {},
   "source": [
    "# Structure of each destination dataframe"
   ]
  },
  {
   "cell_type": "code",
   "execution_count": 36,
   "metadata": {},
   "outputs": [
    {
     "data": {
      "text/html": [
       "<div>\n",
       "<style scoped>\n",
       "    .dataframe tbody tr th:only-of-type {\n",
       "        vertical-align: middle;\n",
       "    }\n",
       "\n",
       "    .dataframe tbody tr th {\n",
       "        vertical-align: top;\n",
       "    }\n",
       "\n",
       "    .dataframe thead th {\n",
       "        text-align: right;\n",
       "    }\n",
       "</style>\n",
       "<table border=\"1\" class=\"dataframe\">\n",
       "  <thead>\n",
       "    <tr style=\"text-align: right;\">\n",
       "      <th></th>\n",
       "      <th>Time</th>\n",
       "      <th>source</th>\n",
       "      <th>Username</th>\n",
       "      <th>Screen_name</th>\n",
       "      <th>User_location</th>\n",
       "      <th>Text</th>\n",
       "      <th>Hashtags</th>\n",
       "      <th>Geo_enabled</th>\n",
       "      <th>Geo</th>\n",
       "      <th>Coordinates</th>\n",
       "      <th>Place</th>\n",
       "      <th>retweet_count</th>\n",
       "      <th>followers_count</th>\n",
       "      <th>friends_count</th>\n",
       "      <th>tweet_favourite_count</th>\n",
       "      <th>User_allinfo</th>\n",
       "      <th>Loc_key</th>\n",
       "    </tr>\n",
       "  </thead>\n",
       "  <tbody>\n",
       "    <tr>\n",
       "      <th>1204906472125190145</th>\n",
       "      <td>2019-12-11 23:31:03+00:00</td>\n",
       "      <td>&lt;a href=\"http://instagram.com\" rel=\"nofollow\"&gt;Instagram&lt;/a&gt;</td>\n",
       "      <td>Priscilla Alcalá</td>\n",
       "      <td>parevilla</td>\n",
       "      <td>Cusco - Perú</td>\n",
       "      <td>Surrounded by art! en Versailles Palace Paris</td>\n",
       "      <td>[]</td>\n",
       "      <td>True</td>\n",
       "      <td>{'type': 'Point', 'coordinates': [48.87045, 2.30184]}</td>\n",
       "      <td>{'type': 'Point', 'coordinates': [2.30184, 48.87045]}</td>\n",
       "      <td>{'id': '09f6a7707f18e0b1', 'url': 'https://api.twitter.com/1.1/geo/id/09f6a7707f18e0b1.json', 'place_type': 'city', 'name': 'Paris', 'full_name': 'Paris, France', 'country_code': 'FR', 'country': 'France', 'contained_within': [], 'bounding_box': {'type': 'Polygon', 'coordinates': [[[2.2241006, 48.8155214], [2.4699053, 48.8155214], [2.4699053, 4...</td>\n",
       "      <td>0</td>\n",
       "      <td>170</td>\n",
       "      <td>751</td>\n",
       "      <td>0</td>\n",
       "      <td>{'id': 218518423, 'id_str': '218518423', 'name': 'Priscilla Alcalá', 'screen_name': 'parevilla', 'location': 'Cusco - Perú', 'description': 'Complicated, like everyone else.....', 'url': 'http://t.co/OBjgQVlBCb', 'entities': {'url': {'urls': [{'url': 'http://t.co/OBjgQVlBCb', 'expanded_url': 'http://www.facebook.com/Kissa310', 'display_url': 'f...</td>\n",
       "      <td>Location</td>\n",
       "    </tr>\n",
       "    <tr>\n",
       "      <th>1204901282047131648</th>\n",
       "      <td>2019-12-11 23:10:26+00:00</td>\n",
       "      <td>&lt;a href=\"http://twitter.com/download/iphone\" rel=\"nofollow\"&gt;Twitter for iPhone&lt;/a&gt;</td>\n",
       "      <td>Heather Newman #CMO #MVP #ESPC19 #MWCP19</td>\n",
       "      <td>heddanewman</td>\n",
       "      <td>Los Angeles, CA</td>\n",
       "      <td>Amazing tour of Paris tonight with @slanoux #sweetfriends all over the world #burningman Thank you darling. ❤️</td>\n",
       "      <td>[{'text': 'sweetfriends', 'indices': [44, 57]}, {'text': 'burningman', 'indices': [77, 88]}]</td>\n",
       "      <td>True</td>\n",
       "      <td>None</td>\n",
       "      <td>None</td>\n",
       "      <td>{'id': '07d9f1a340c87002', 'url': 'https://api.twitter.com/1.1/geo/id/07d9f1a340c87002.json', 'place_type': 'poi', 'name': 'Tour Eiffel', 'full_name': 'Tour Eiffel', 'country_code': 'FR', 'country': 'France', 'contained_within': [], 'bounding_box': {'type': 'Polygon', 'coordinates': [[[2.2944259643554683, 48.858249354605626], [2.294425964355468...</td>\n",
       "      <td>0</td>\n",
       "      <td>4813</td>\n",
       "      <td>4692</td>\n",
       "      <td>0</td>\n",
       "      <td>{'id': 18568145, 'id_str': '18568145', 'name': 'Heather Newman #CMO #MVP #ESPC19 #MWCP19', 'screen_name': 'heddanewman', 'location': 'Los Angeles, CA', 'description': 'A Creative Maven #CMO #MicrosoftMVP #Writer #Marketing #PersonalDevelopment #Brand Podcast: @Mavensdoitbetta Biz: @creativemavens @contentpanda (She/Her)', 'url': 'https://t.co/0...</td>\n",
       "      <td>Location</td>\n",
       "    </tr>\n",
       "    <tr>\n",
       "      <th>1204894408631619585</th>\n",
       "      <td>2019-12-11 22:43:07+00:00</td>\n",
       "      <td>&lt;a href=\"http://instagram.com\" rel=\"nofollow\"&gt;Instagram&lt;/a&gt;</td>\n",
       "      <td>Diego Manrique</td>\n",
       "      <td>diegomanrique_q</td>\n",
       "      <td>Bogotá</td>\n",
       "      <td>A night in #Paris @ Tour Eiffel</td>\n",
       "      <td>[{'text': 'Paris', 'indices': [11, 17]}]</td>\n",
       "      <td>True</td>\n",
       "      <td>{'type': 'Point', 'coordinates': [48.85838631, 2.29455382]}</td>\n",
       "      <td>{'type': 'Point', 'coordinates': [2.29455382, 48.85838631]}</td>\n",
       "      <td>{'id': '09f6a7707f18e0b1', 'url': 'https://api.twitter.com/1.1/geo/id/09f6a7707f18e0b1.json', 'place_type': 'city', 'name': 'Paris', 'full_name': 'Paris, France', 'country_code': 'FR', 'country': 'France', 'contained_within': [], 'bounding_box': {'type': 'Polygon', 'coordinates': [[[2.2241006, 48.8155214], [2.4699053, 48.8155214], [2.4699053, 4...</td>\n",
       "      <td>0</td>\n",
       "      <td>104</td>\n",
       "      <td>258</td>\n",
       "      <td>0</td>\n",
       "      <td>{'id': 57042690, 'id_str': '57042690', 'name': 'Diego Manrique', 'screen_name': 'diegomanrique_q', 'location': 'Bogotá', 'description': 'Traveler, Dreamer.', 'url': None, 'entities': {'description': {'urls': []}}, 'protected': False, 'followers_count': 104, 'friends_count': 258, 'listed_count': 9, 'created_at': 'Wed Jul 15 15:14:25 +0000 2009',...</td>\n",
       "      <td>Location</td>\n",
       "    </tr>\n",
       "    <tr>\n",
       "      <th>1204890089160986624</th>\n",
       "      <td>2019-12-11 22:25:57+00:00</td>\n",
       "      <td>&lt;a href=\"http://instagram.com\" rel=\"nofollow\"&gt;Instagram&lt;/a&gt;</td>\n",
       "      <td>𝓑 𝒜𝓁𝓉𝒽𝒶𝓃𝒾 🖤</td>\n",
       "      <td>balthanii</td>\n",
       "      <td>Paris, France</td>\n",
       "      <td>Take me back to the night we met..🖤 @ Tour Eiffel</td>\n",
       "      <td>[]</td>\n",
       "      <td>True</td>\n",
       "      <td>{'type': 'Point', 'coordinates': [48.85838631, 2.29455382]}</td>\n",
       "      <td>{'type': 'Point', 'coordinates': [2.29455382, 48.85838631]}</td>\n",
       "      <td>{'id': '09f6a7707f18e0b1', 'url': 'https://api.twitter.com/1.1/geo/id/09f6a7707f18e0b1.json', 'place_type': 'city', 'name': 'Paris', 'full_name': 'Paris, France', 'country_code': 'FR', 'country': 'France', 'contained_within': [], 'bounding_box': {'type': 'Polygon', 'coordinates': [[[2.2241006, 48.8155214], [2.4699053, 48.8155214], [2.4699053, 4...</td>\n",
       "      <td>0</td>\n",
       "      <td>383</td>\n",
       "      <td>70</td>\n",
       "      <td>0</td>\n",
       "      <td>{'id': 303785842, 'id_str': '303785842', 'name': '𝓑 𝒜𝓁𝓉𝒽𝒶𝓃𝒾 🖤', 'screen_name': 'balthanii', 'location': 'Paris, France', 'description': '💋♓️', 'url': 'https://t.co/2ySRJx9wKw', 'entities': {'url': {'urls': [{'url': 'https://t.co/2ySRJx9wKw', 'expanded_url': 'https://tellonym.me/Balthani', 'display_url': 'tellonym.me/Balthani', 'indices': [0, 23...</td>\n",
       "      <td>Location</td>\n",
       "    </tr>\n",
       "    <tr>\n",
       "      <th>1204883779703181314</th>\n",
       "      <td>2019-12-11 22:00:53+00:00</td>\n",
       "      <td>&lt;a href=\"http://twitter.com/download/iphone\" rel=\"nofollow\"&gt;Twitter for iPhone&lt;/a&gt;</td>\n",
       "      <td>JaeBae</td>\n",
       "      <td>DrizzyJade</td>\n",
       "      <td>Instagram: Berry_artx</td>\n",
       "      <td>Enjoying the view 🌉</td>\n",
       "      <td>[]</td>\n",
       "      <td>True</td>\n",
       "      <td>None</td>\n",
       "      <td>None</td>\n",
       "      <td>{'id': '07d9f1a340c87002', 'url': 'https://api.twitter.com/1.1/geo/id/07d9f1a340c87002.json', 'place_type': 'poi', 'name': 'Tour Eiffel', 'full_name': 'Tour Eiffel', 'country_code': 'FR', 'country': 'France', 'contained_within': [], 'bounding_box': {'type': 'Polygon', 'coordinates': [[[2.2944259643554683, 48.858249354605626], [2.294425964355468...</td>\n",
       "      <td>1</td>\n",
       "      <td>570</td>\n",
       "      <td>410</td>\n",
       "      <td>2</td>\n",
       "      <td>{'id': 331534416, 'id_str': '331534416', 'name': 'JaeBae', 'screen_name': 'DrizzyJade', 'location': 'Instagram: Berry_artx', 'description': 'A Young Artist', 'url': None, 'entities': {'description': {'urls': []}}, 'protected': False, 'followers_count': 570, 'friends_count': 410, 'listed_count': 1, 'created_at': 'Fri Jul 08 09:52:07 +0000 2011',...</td>\n",
       "      <td>Location</td>\n",
       "    </tr>\n",
       "  </tbody>\n",
       "</table>\n",
       "</div>"
      ],
      "text/plain": [
       "                                         Time  \\\n",
       "1204906472125190145 2019-12-11 23:31:03+00:00   \n",
       "1204901282047131648 2019-12-11 23:10:26+00:00   \n",
       "1204894408631619585 2019-12-11 22:43:07+00:00   \n",
       "1204890089160986624 2019-12-11 22:25:57+00:00   \n",
       "1204883779703181314 2019-12-11 22:00:53+00:00   \n",
       "\n",
       "                                                                                                 source  \\\n",
       "1204906472125190145                         <a href=\"http://instagram.com\" rel=\"nofollow\">Instagram</a>   \n",
       "1204901282047131648  <a href=\"http://twitter.com/download/iphone\" rel=\"nofollow\">Twitter for iPhone</a>   \n",
       "1204894408631619585                         <a href=\"http://instagram.com\" rel=\"nofollow\">Instagram</a>   \n",
       "1204890089160986624                         <a href=\"http://instagram.com\" rel=\"nofollow\">Instagram</a>   \n",
       "1204883779703181314  <a href=\"http://twitter.com/download/iphone\" rel=\"nofollow\">Twitter for iPhone</a>   \n",
       "\n",
       "                                                     Username  \\\n",
       "1204906472125190145                          Priscilla Alcalá   \n",
       "1204901282047131648  Heather Newman #CMO #MVP #ESPC19 #MWCP19   \n",
       "1204894408631619585                            Diego Manrique   \n",
       "1204890089160986624                               𝓑 𝒜𝓁𝓉𝒽𝒶𝓃𝒾 🖤   \n",
       "1204883779703181314                                    JaeBae   \n",
       "\n",
       "                         Screen_name          User_location  \\\n",
       "1204906472125190145        parevilla           Cusco - Perú   \n",
       "1204901282047131648      heddanewman        Los Angeles, CA   \n",
       "1204894408631619585  diegomanrique_q                 Bogotá   \n",
       "1204890089160986624        balthanii          Paris, France   \n",
       "1204883779703181314       DrizzyJade  Instagram: Berry_artx   \n",
       "\n",
       "                                                                                                                               Text  \\\n",
       "1204906472125190145                                                                   Surrounded by art! en Versailles Palace Paris   \n",
       "1204901282047131648  Amazing tour of Paris tonight with @slanoux #sweetfriends all over the world #burningman Thank you darling. ❤️   \n",
       "1204894408631619585                                                                                 A night in #Paris @ Tour Eiffel   \n",
       "1204890089160986624                                                               Take me back to the night we met..🖤 @ Tour Eiffel   \n",
       "1204883779703181314                                                                                             Enjoying the view 🌉   \n",
       "\n",
       "                                                                                                         Hashtags  \\\n",
       "1204906472125190145                                                                                            []   \n",
       "1204901282047131648  [{'text': 'sweetfriends', 'indices': [44, 57]}, {'text': 'burningman', 'indices': [77, 88]}]   \n",
       "1204894408631619585                                                      [{'text': 'Paris', 'indices': [11, 17]}]   \n",
       "1204890089160986624                                                                                            []   \n",
       "1204883779703181314                                                                                            []   \n",
       "\n",
       "                     Geo_enabled  \\\n",
       "1204906472125190145         True   \n",
       "1204901282047131648         True   \n",
       "1204894408631619585         True   \n",
       "1204890089160986624         True   \n",
       "1204883779703181314         True   \n",
       "\n",
       "                                                                             Geo  \\\n",
       "1204906472125190145        {'type': 'Point', 'coordinates': [48.87045, 2.30184]}   \n",
       "1204901282047131648                                                         None   \n",
       "1204894408631619585  {'type': 'Point', 'coordinates': [48.85838631, 2.29455382]}   \n",
       "1204890089160986624  {'type': 'Point', 'coordinates': [48.85838631, 2.29455382]}   \n",
       "1204883779703181314                                                         None   \n",
       "\n",
       "                                                                     Coordinates  \\\n",
       "1204906472125190145        {'type': 'Point', 'coordinates': [2.30184, 48.87045]}   \n",
       "1204901282047131648                                                         None   \n",
       "1204894408631619585  {'type': 'Point', 'coordinates': [2.29455382, 48.85838631]}   \n",
       "1204890089160986624  {'type': 'Point', 'coordinates': [2.29455382, 48.85838631]}   \n",
       "1204883779703181314                                                         None   \n",
       "\n",
       "                                                                                                                                                                                                                                                                                                                                                                             Place  \\\n",
       "1204906472125190145  {'id': '09f6a7707f18e0b1', 'url': 'https://api.twitter.com/1.1/geo/id/09f6a7707f18e0b1.json', 'place_type': 'city', 'name': 'Paris', 'full_name': 'Paris, France', 'country_code': 'FR', 'country': 'France', 'contained_within': [], 'bounding_box': {'type': 'Polygon', 'coordinates': [[[2.2241006, 48.8155214], [2.4699053, 48.8155214], [2.4699053, 4...   \n",
       "1204901282047131648  {'id': '07d9f1a340c87002', 'url': 'https://api.twitter.com/1.1/geo/id/07d9f1a340c87002.json', 'place_type': 'poi', 'name': 'Tour Eiffel', 'full_name': 'Tour Eiffel', 'country_code': 'FR', 'country': 'France', 'contained_within': [], 'bounding_box': {'type': 'Polygon', 'coordinates': [[[2.2944259643554683, 48.858249354605626], [2.294425964355468...   \n",
       "1204894408631619585  {'id': '09f6a7707f18e0b1', 'url': 'https://api.twitter.com/1.1/geo/id/09f6a7707f18e0b1.json', 'place_type': 'city', 'name': 'Paris', 'full_name': 'Paris, France', 'country_code': 'FR', 'country': 'France', 'contained_within': [], 'bounding_box': {'type': 'Polygon', 'coordinates': [[[2.2241006, 48.8155214], [2.4699053, 48.8155214], [2.4699053, 4...   \n",
       "1204890089160986624  {'id': '09f6a7707f18e0b1', 'url': 'https://api.twitter.com/1.1/geo/id/09f6a7707f18e0b1.json', 'place_type': 'city', 'name': 'Paris', 'full_name': 'Paris, France', 'country_code': 'FR', 'country': 'France', 'contained_within': [], 'bounding_box': {'type': 'Polygon', 'coordinates': [[[2.2241006, 48.8155214], [2.4699053, 48.8155214], [2.4699053, 4...   \n",
       "1204883779703181314  {'id': '07d9f1a340c87002', 'url': 'https://api.twitter.com/1.1/geo/id/07d9f1a340c87002.json', 'place_type': 'poi', 'name': 'Tour Eiffel', 'full_name': 'Tour Eiffel', 'country_code': 'FR', 'country': 'France', 'contained_within': [], 'bounding_box': {'type': 'Polygon', 'coordinates': [[[2.2944259643554683, 48.858249354605626], [2.294425964355468...   \n",
       "\n",
       "                     retweet_count  followers_count  friends_count  \\\n",
       "1204906472125190145              0              170            751   \n",
       "1204901282047131648              0             4813           4692   \n",
       "1204894408631619585              0              104            258   \n",
       "1204890089160986624              0              383             70   \n",
       "1204883779703181314              1              570            410   \n",
       "\n",
       "                     tweet_favourite_count  \\\n",
       "1204906472125190145                      0   \n",
       "1204901282047131648                      0   \n",
       "1204894408631619585                      0   \n",
       "1204890089160986624                      0   \n",
       "1204883779703181314                      2   \n",
       "\n",
       "                                                                                                                                                                                                                                                                                                                                                                      User_allinfo  \\\n",
       "1204906472125190145  {'id': 218518423, 'id_str': '218518423', 'name': 'Priscilla Alcalá', 'screen_name': 'parevilla', 'location': 'Cusco - Perú', 'description': 'Complicated, like everyone else.....', 'url': 'http://t.co/OBjgQVlBCb', 'entities': {'url': {'urls': [{'url': 'http://t.co/OBjgQVlBCb', 'expanded_url': 'http://www.facebook.com/Kissa310', 'display_url': 'f...   \n",
       "1204901282047131648  {'id': 18568145, 'id_str': '18568145', 'name': 'Heather Newman #CMO #MVP #ESPC19 #MWCP19', 'screen_name': 'heddanewman', 'location': 'Los Angeles, CA', 'description': 'A Creative Maven #CMO #MicrosoftMVP #Writer #Marketing #PersonalDevelopment #Brand Podcast: @Mavensdoitbetta Biz: @creativemavens @contentpanda (She/Her)', 'url': 'https://t.co/0...   \n",
       "1204894408631619585  {'id': 57042690, 'id_str': '57042690', 'name': 'Diego Manrique', 'screen_name': 'diegomanrique_q', 'location': 'Bogotá', 'description': 'Traveler, Dreamer.', 'url': None, 'entities': {'description': {'urls': []}}, 'protected': False, 'followers_count': 104, 'friends_count': 258, 'listed_count': 9, 'created_at': 'Wed Jul 15 15:14:25 +0000 2009',...   \n",
       "1204890089160986624  {'id': 303785842, 'id_str': '303785842', 'name': '𝓑 𝒜𝓁𝓉𝒽𝒶𝓃𝒾 🖤', 'screen_name': 'balthanii', 'location': 'Paris, France', 'description': '💋♓️', 'url': 'https://t.co/2ySRJx9wKw', 'entities': {'url': {'urls': [{'url': 'https://t.co/2ySRJx9wKw', 'expanded_url': 'https://tellonym.me/Balthani', 'display_url': 'tellonym.me/Balthani', 'indices': [0, 23...   \n",
       "1204883779703181314  {'id': 331534416, 'id_str': '331534416', 'name': 'JaeBae', 'screen_name': 'DrizzyJade', 'location': 'Instagram: Berry_artx', 'description': 'A Young Artist', 'url': None, 'entities': {'description': {'urls': []}}, 'protected': False, 'followers_count': 570, 'friends_count': 410, 'listed_count': 1, 'created_at': 'Fri Jul 08 09:52:07 +0000 2011',...   \n",
       "\n",
       "                      Loc_key  \n",
       "1204906472125190145  Location  \n",
       "1204901282047131648  Location  \n",
       "1204894408631619585  Location  \n",
       "1204890089160986624  Location  \n",
       "1204883779703181314  Location  "
      ]
     },
     "execution_count": 36,
     "metadata": {},
     "output_type": "execute_result"
    }
   ],
   "source": [
    "EiffelTweets.head()"
   ]
  },
  {
   "cell_type": "code",
   "execution_count": null,
   "metadata": {},
   "outputs": [],
   "source": []
  },
  {
   "cell_type": "code",
   "execution_count": null,
   "metadata": {},
   "outputs": [],
   "source": []
  },
  {
   "cell_type": "markdown",
   "metadata": {},
   "source": [
    "### old work"
   ]
  },
  {
   "cell_type": "code",
   "execution_count": 37,
   "metadata": {
    "colab": {},
    "colab_type": "code",
    "id": "yDGdJ_7bPDfc"
   },
   "outputs": [],
   "source": [
    "##Attempt 1 at scraping (with geocode + keyword)\n",
    "\n",
    "# scrapeTweets(\"pyramids.json\", ['pyramid', 'pyramids', 'giza', 'sphinx', 'museum', 'wonder'], [], [29.9792, 31.1342, 3])\n",
    "# scrapeTweets(\"colosseum.json\", ['collosseum', 'coliseum', 'roman', 'palatine', 'battle', 'rome'], [], [41.8902, 12.4922, 2])    \n",
    "# scrapeTweets(\"eiffel.json\", ['eiffel', 'tower', 'effiel', 'tour'], [], [48.8584, 2.2945, 2])"
   ]
  },
  {
   "cell_type": "code",
   "execution_count": 38,
   "metadata": {
    "colab": {},
    "colab_type": "code",
    "id": "Ay9HF211PDfh"
   },
   "outputs": [],
   "source": [
    "# for i in range(0, 20):\n",
    "#     scrapeTweets(\"borabora.json\", ['tahiti', 'island', 'bungalow', 'polynesia', 'beach'], [], [-16.499701, -151.770538, 5])\n",
    "#     scrapeTweets(\"machu.json\", ['machu', 'picchu', 'macchu', 'pichu', 'lost', 'city', 'inca', 'incas', 'empire', 'andes', 'ruins', 'civilization'], [], [-13.163068, -72.545128, 3])\n",
    "#     scrapeTweets(\"statueliberty.json\", ['statue', 'liberty', 'lady', 'free', 'freedom', 'torch', 'ellis', 'immigration', 'immigrants'], [], [40.6892, -74.0445, 2])\n"
   ]
  },
  {
   "cell_type": "code",
   "execution_count": 39,
   "metadata": {
    "colab": {},
    "colab_type": "code",
    "id": "OTHUvHSOPDfm"
   },
   "outputs": [],
   "source": [
    "# for i in range(0, 20):\n",
    "#     scrapeTweets(\"angkor.json\", ['angkor', 'ankor', 'wat', 'temple', 'statue', 'khmer', 'hindu', 'religious', 'vishnu', 'tower', 'ancient'], [], [13.4125, 103.867, 3])\n",
    "#     scrapeTweets(\"hiroshima.json\", ['hiroshima', 'peace', 'memorial', 'museum', 'bombing', 'healing', 'bomb', 'atomic', 'war', 'nuclear'], [], [34.3955, 132.4512, 2])\n",
    "#     scrapeTweets(\"mlk.json\", ['mlk', 'martin', 'luther', 'king', 'memorial', 'activism', 'civil rights', 'african american', 'i have a dream', 'equal', 'racial'], [], [38.8862, -77.044234, 2])\n",
    "#     scrapeTweets(\"victoriafalls.json\", ['victoria', 'falls', 'waterfall', 'wonder', 'tallest', 'vic falls', 'geological', 'natural wonder'], [], [-17.924444, 25.8572, 2])"
   ]
  },
  {
   "cell_type": "code",
   "execution_count": 40,
   "metadata": {
    "colab": {},
    "colab_type": "code",
    "id": "Uz7d-gyIPDfr"
   },
   "outputs": [],
   "source": [
    "#adding extra tweets\n",
    "# scrapeTweets(\"tablemt.json\", ['table', 'mountain', 'national', 'park', 'nature', 'hike', 'views', 'table mt', 'landmark', 'cape fold'], [], [-33.918861, 18.4233, 3])\n",
    "   "
   ]
  },
  {
   "cell_type": "code",
   "execution_count": null,
   "metadata": {
    "colab": {},
    "colab_type": "code",
    "id": "4DWwmTCrPDgN"
   },
   "outputs": [],
   "source": []
  },
  {
   "cell_type": "markdown",
   "metadata": {
    "colab": {},
    "colab_type": "code",
    "id": "ksSJiVkxPDgR"
   },
   "source": [
    "# FUNCTIONS (BACK)"
   ]
  },
  {
   "cell_type": "markdown",
   "metadata": {
    "colab_type": "text",
    "id": "FfnEjIBLPDgU"
   },
   "source": [
    "# Emoji functions"
   ]
  },
  {
   "cell_type": "code",
   "execution_count": 41,
   "metadata": {
    "colab": {},
    "colab_type": "code",
    "id": "lB9JIQm6PDgU"
   },
   "outputs": [],
   "source": [
    "def extract_emojis(str):\n",
    "    return ''.join(c for c in str if c in emoji.UNICODE_EMOJI)"
   ]
  },
  {
   "cell_type": "code",
   "execution_count": 42,
   "metadata": {
    "colab": {},
    "colab_type": "code",
    "id": "m0_1skmhPDgY"
   },
   "outputs": [],
   "source": [
    "\"\"\"Creates a dictionary of emojis and counts for the destination: Returns dictionary\"\"\"\n",
    "def emoji_dict(dataframe):\n",
    "    import emoji\n",
    "    listemojis = []\n",
    "    \n",
    "    for tweet in dataframe['Text']:\n",
    "        if any(char in emoji.UNICODE_EMOJI for char in tweet):\n",
    "            listemojis.append(extract_emojis(tweet))\n",
    "        \n",
    "    #create set of unique emojis\n",
    "    uniqueemojis = set()\n",
    "    \n",
    "    for emojis in listemojis:\n",
    "        for emoji in emojis:\n",
    "            uniqueemojis.add(emoji)\n",
    "            \n",
    "    #create dictionary of emojis, all counts set to zero\n",
    "    emojicount = {}\n",
    "    for i in uniqueemojis:\n",
    "        emojicount[i] = 0\n",
    "        \n",
    "    \n",
    "    #loop through list and count emojis\n",
    "    for emojis in listemojis:\n",
    "        for emoji in emojis:\n",
    "            emojicount[emoji] +=1\n",
    "            \n",
    "    return emojicount\n",
    "\n",
    "def sorted_emojicount(emojicount):\n",
    "    #takes an emoji dictionary created by emoji_dict() and returns a sorted list of tuples\n",
    "    #where each tuple is (emoji, count)\n",
    "    \n",
    "    sorted_emojicount = sorted(emojicount.items(), key=lambda kv: kv[1], reverse=True)\n",
    "    \n",
    "    return(sorted_emojicount)"
   ]
  },
  {
   "cell_type": "code",
   "execution_count": 43,
   "metadata": {
    "colab": {},
    "colab_type": "code",
    "id": "i-FmfwWzPDgb"
   },
   "outputs": [
    {
     "name": "stdout",
     "output_type": "stream",
     "text": [
      "{'✅': 2, '😍': 4, '😭': 5, '😤': 1, '✏': 1, '💜': 4, '🙄': 1, '\\U0001f9a6': 1, '🇹': 1, '💋': 1, '⚡': 1, '😺': 1, '😡': 1, '🤭': 2, '❤': 6, '🗼': 2, '😱': 1, '🇫': 8, '💙': 1, '🏻': 2, '🙏': 2, '🖤': 2, '😢': 1, '🌃': 1, '✨': 3, '🇷': 9, '🏽': 1, '✈': 1, '😩': 1, '🐭': 1, '🐾': 1, '🤦': 1, '💀': 2, '♀': 1, '🥰': 3, '🏰': 1, '💫': 1, '😉': 1, '🥶': 1, '🌉': 1, '🤣': 5, '❄': 2, '💛': 1, '💍': 1, '😏': 2, '🏼': 1, '🍆': 1, '🖊': 1, '😘': 1, '👏': 4, '🤬': 4, '😎': 1, '😂': 8, '😥': 1}\n",
      "[('🇷', 9), ('🇫', 8), ('😂', 8), ('❤', 6), ('😭', 5), ('🤣', 5), ('😍', 4), ('💜', 4), ('👏', 4), ('🤬', 4), ('✨', 3), ('🥰', 3), ('✅', 2), ('🤭', 2), ('🗼', 2), ('🏻', 2), ('🙏', 2), ('🖤', 2), ('💀', 2), ('❄', 2), ('😏', 2), ('😤', 1), ('✏', 1), ('🙄', 1), ('\\U0001f9a6', 1), ('🇹', 1), ('💋', 1), ('⚡', 1), ('😺', 1), ('😡', 1), ('😱', 1), ('💙', 1), ('😢', 1), ('🌃', 1), ('🏽', 1), ('✈', 1), ('😩', 1), ('🐭', 1), ('🐾', 1), ('🤦', 1), ('♀', 1), ('🏰', 1), ('💫', 1), ('😉', 1), ('🥶', 1), ('🌉', 1), ('💛', 1), ('💍', 1), ('🏼', 1), ('🍆', 1), ('🖊', 1), ('😘', 1), ('😎', 1), ('😥', 1)]\n"
     ]
    }
   ],
   "source": [
    "eiffelemojis = emoji_dict(EiffelTweets)\n",
    "print(eiffelemojis)\n",
    "print(sorted_emojicount(eiffelemojis))\n",
    "\n",
    "\n",
    "\n"
   ]
  },
  {
   "cell_type": "code",
   "execution_count": 44,
   "metadata": {
    "colab": {},
    "colab_type": "code",
    "id": "netF90tTPDge"
   },
   "outputs": [
    {
     "name": "stdout",
     "output_type": "stream",
     "text": [
      "😍\n"
     ]
    }
   ],
   "source": [
    "# for i in eiffelemojis:\n",
    "#     print(i[0])\n",
    "#     print(emoji.demojize(i[0]))\n",
    "    \n",
    "for i in eiffelemojis:\n",
    "    if emoji.demojize(i[0], use_aliases=True) == \":heart_eyes:\":\n",
    "        print(i)"
   ]
  },
  {
   "cell_type": "markdown",
   "metadata": {
    "colab_type": "text",
    "id": "xHFC_mQsPDgi"
   },
   "source": [
    "# Sentiment analysis : "
   ]
  },
  {
   "cell_type": "code",
   "execution_count": 45,
   "metadata": {
    "colab": {},
    "colab_type": "code",
    "id": "xQuM1n-XPDgk"
   },
   "outputs": [],
   "source": [
    "from vaderSentiment.vaderSentiment import SentimentIntensityAnalyzer\n",
    "\n",
    "analyser = SentimentIntensityAnalyzer()\n",
    "\n",
    "def sentiment_analyzer_scores(sentences):\n",
    "    compound = []\n",
    "    score =  [analyser.polarity_scores(tweet) for tweet in sentences]\n",
    "    for sc in score:\n",
    "        compound.append(sc['compound'])\n",
    "    \n",
    "    return compound\n",
    "#     score_compound = score['compound']\n",
    "#     print(\"{:-<300} {}\".format(tweet, str(score)))\n",
    "    \n"
   ]
  },
  {
   "cell_type": "code",
   "execution_count": 46,
   "metadata": {
    "colab": {},
    "colab_type": "code",
    "id": "r7GaT_xuPDgm"
   },
   "outputs": [],
   "source": [
    "#Getting the final (mean) sentiment score associated with each tweet. \n",
    "\n",
    "def Fetch_sentiment_score(df): #Takes dataframe as the input.\n",
    "    compound_score = sentiment_analyzer_scores(df['Text'])  #Pass the text column of the dataframe you want to analyze.\n",
    "\n",
    "    df['Compound_score'] = compound_score \n",
    "\n",
    "    #Splitting the score into ordinal categories [1,2,3,4,5] : 1,2 <- negetive | 3 <- Neutral | 5 <- Positive\n",
    "    df['Score'] = pd.cut(df['Compound_score'], bins=5, labels=[1, 2, 3, 4, 5])\n",
    "\n",
    "    #Converting the tweets sentiment into numerical values. and taking the mean for the complete set.\n",
    "    df['Score'] = df['Score'].astype('int')\n"
   ]
  },
  {
   "cell_type": "code",
   "execution_count": 47,
   "metadata": {},
   "outputs": [],
   "source": [
    "def Final_senti_score(df):\n",
    "    Fetch_sentiment_score(df)\n",
    "    return df['Score'].mean()"
   ]
  },
  {
   "cell_type": "code",
   "execution_count": 48,
   "metadata": {},
   "outputs": [],
   "source": [
    "def toptweet_favourite(df):  \n",
    "    #each tweet is assigned a rank # based on their # followers and sentiment \n",
    "    #(ex. 1 when score = 3 means that out of all the neutral tweets, they have the most followers)\n",
    "    df[\"Top_fav_follower\"]=df.groupby('Score')['followers_count'].rank(\"dense\",ascending=False)\n",
    "    \n",
    "    #same but for # favorites for that tweet\n",
    "    df[\"Top_fav_favourite\"]=df.groupby('Score')['tweet_favourite_count'].rank(\"dense\",ascending=False)"
   ]
  },
  {
   "cell_type": "markdown",
   "metadata": {},
   "source": [
    "## Appending to masterlist & dataframe"
   ]
  },
  {
   "cell_type": "code",
   "execution_count": 49,
   "metadata": {},
   "outputs": [],
   "source": [
    "#append emoji dictionaries\n",
    "for i in range(0,20):\n",
    "    emojilist = emoji_dict(destinationlist[i])    \n",
    "    masterlist[i].append(emojilist)"
   ]
  },
  {
   "cell_type": "code",
   "execution_count": 50,
   "metadata": {},
   "outputs": [],
   "source": [
    "#append sentiment\n",
    "for i in range(0,20):\n",
    "    sentiment_score = Final_senti_score(destinationlist[i])   \n",
    "    masterlist[i].append(sentiment_score)"
   ]
  },
  {
   "cell_type": "code",
   "execution_count": 51,
   "metadata": {},
   "outputs": [],
   "source": [
    "#append toptweet\n",
    "for i in destinationlist:\n",
    "    toptweet_favourite(i)"
   ]
  },
  {
   "cell_type": "code",
   "execution_count": 52,
   "metadata": {},
   "outputs": [
    {
     "name": "stdout",
     "output_type": "stream",
     "text": [
      "Eiffel Tower\n",
      "[('🇷', 9), ('🇫', 8), ('😂', 8), ('❤', 6), ('😭', 5), ('🤣', 5), ('😍', 4), ('💜', 4), ('👏', 4), ('🤬', 4), ('✨', 3), ('🥰', 3), ('✅', 2), ('🤭', 2), ('🗼', 2), ('🏻', 2), ('🙏', 2), ('🖤', 2), ('💀', 2), ('❄', 2), ('😏', 2), ('😤', 1), ('✏', 1), ('🙄', 1), ('\\U0001f9a6', 1), ('🇹', 1), ('💋', 1), ('⚡', 1), ('😺', 1), ('😡', 1), ('😱', 1), ('💙', 1), ('😢', 1), ('🌃', 1), ('🏽', 1), ('✈', 1), ('😩', 1), ('🐭', 1), ('🐾', 1), ('🤦', 1), ('♀', 1), ('🏰', 1), ('💫', 1), ('😉', 1), ('🥶', 1), ('🌉', 1), ('💛', 1), ('💍', 1), ('🏼', 1), ('🍆', 1), ('🖊', 1), ('😘', 1), ('😎', 1), ('😥', 1)]\n",
      "3.390625\n",
      "Great Pyramid of Giza\n",
      "[('🇪', 22), ('🇬', 22), ('♥', 13), ('❤', 8), ('🍗', 8), ('🌞', 7), ('😍', 6), ('♂', 6), ('👌', 5), ('🐪', 4), ('💙', 4), ('📷', 4), ('🤦', 4), ('😂', 4), ('💪', 3), ('⚡', 3), ('🏻', 3), ('🏅', 3), ('✨', 3), ('✈', 3), ('🐫', 3), ('✊', 3), ('🇦', 2), ('🥇', 2), ('😱', 2), ('🇫', 2), ('🖤', 2), ('💨', 2), ('🌹', 2), ('🇺', 2), ('🇨', 2), ('🇷', 2), ('🧳', 2), ('🏽', 2), ('🎉', 2), ('🌍', 2), ('®', 2), ('🇸', 2), ('😃', 2), ('😎', 2), ('🏆', 2), ('🏟', 1), ('🇹', 1), ('🚶', 1), ('🇲', 1), ('🏾', 1), ('📍', 1), ('🐑', 1), ('😁', 1), ('🧿', 1), ('⚱', 1), ('🤯', 1), ('🍁', 1), ('🥘', 1), ('💡', 1), ('🏃', 1), ('📺', 1), ('🏿', 1), ('😩', 1), ('👑', 1), ('🌄', 1), ('♀', 1), ('💀', 1), ('💰', 1), ('🐎', 1), ('😒', 1), ('🤼', 1), ('🤘', 1), ('😄', 1), ('💛', 1), ('😋', 1), ('👒', 1), ('👀', 1), ('🏼', 1), ('😊', 1)]\n",
      "3.7953586497890295\n",
      "Colosseum\n",
      "[('🇮', 34), ('🇹', 33), ('😍', 13), ('❤', 11), ('🎄', 6), ('🙏', 6), ('🏻', 6), ('😊', 6), ('✨', 5), ('🏼', 4), ('😜', 4), ('🖤', 4), ('📸', 3), ('🌍', 3), ('📷', 3), ('🌇', 3), ('🎅', 3), ('🌟', 3), ('🏟', 2), ('💪', 2), ('🏽', 2), ('🇵', 2), ('♀', 2), ('😎', 2), ('😂', 2), ('👋', 2), ('🙈', 2), ('🇰', 2), ('☕', 2), ('🧡', 2), ('💙', 2), ('👉', 2), ('👍', 2), ('🤟', 2), ('🏛', 2), ('🌞', 2), ('😡', 2), ('©', 2), ('👦', 2), ('🤝', 2), ('⚔', 2), ('💯', 2), ('💃', 2), ('🌌', 1), ('🥵', 1), ('🎊', 1), ('💚', 1), ('♂', 1), ('💩', 1), ('✈', 1), ('🛫', 1), ('😆', 1), ('🚫', 1), ('🤣', 1), ('😱', 1), ('🕺', 1), ('🐱', 1), ('🇪', 1), ('📍', 1), ('🏡', 1), ('⏰', 1), ('🏃', 1), ('🌏', 1), ('🕵', 1), ('🍀', 1), ('🦅', 1), ('🌐', 1), ('♥', 1), ('🌎', 1), ('🥁', 1), ('😲', 1), ('👨', 1), ('😁', 1), ('🌆', 1), ('👩', 1), ('📌', 1), ('🥰', 1), ('🤷', 1), ('👓', 1), ('👀', 1), ('💕', 1), ('👊', 1), ('💁', 1), ('☀', 1), ('🎉', 1), ('💗', 1), ('😉', 1), ('💛', 1), ('⚒', 1)]\n",
      "3.3475046210720887\n",
      "Machu Picchu\n",
      "[('❤', 9), ('🇪', 8), ('🇵', 8), ('😂', 6), ('🤩', 5), ('🦙', 5), ('✅', 4), ('📷', 4), ('🌎', 4), ('😍', 3), ('📍', 2), ('📸', 2), ('🔥', 2), ('🤯', 2), ('🇨', 2), ('🤫', 2), ('👉', 2), ('🐾', 2), ('🤜', 2), ('🥺', 2), ('👏', 2), ('😭', 1), ('🇦', 1), ('😅', 1), ('👧', 1), ('💜', 1), ('✏', 1), ('⛰', 1), ('🌈', 1), ('🇲', 1), ('🏾', 1), ('😺', 1), ('🏐', 1), ('🌟', 1), ('💙', 1), ('😁', 1), ('⬅', 1), ('🇽', 1), ('🇱', 1), ('💚', 1), ('🌶', 1), ('♂', 1), ('☑', 1), ('🇷', 1), ('☀', 1), ('🏽', 1), ('✈', 1), ('🇴', 1), ('❓', 1), ('🥾', 1), ('🌍', 1), ('➡', 1), ('😩', 1), ('🤦', 1), ('♀', 1), ('🤷', 1), ('🏳', 1), ('💫', 1), ('😄', 1), ('🤣', 1), ('💛', 1), ('💖', 1), ('👍', 1), ('😋', 1), ('😃', 1), ('😬', 1), ('👇', 1), ('😇', 1), ('😲', 1), ('🤔', 1)]\n",
      "3.438813349814586\n",
      "Statue of Liberty\n",
      "[('🗽', 240), ('😂', 64), ('🇺', 25), ('🇳', 21), ('🇮', 21), ('❤', 18), ('⬛', 17), ('🇸', 16), ('😍', 13), ('🌊', 12), ('🇲', 10), ('🙏', 9), ('🔥', 9), ('👀', 9), ('👏', 9), ('👇', 8), ('😹', 8), ('☁', 8), ('💦', 8), ('🤔', 8), ('🤣', 7), ('😭', 7), ('👍', 7), ('🏻', 6), ('❄', 6), ('🥺', 6), ('🚨', 6), ('🏼', 5), ('✅', 5), ('🐴', 4), ('🏿', 4), ('😄', 4), ('🎶', 4), ('👽', 4), ('👢', 4), ('🎄', 3), ('👋', 3), ('😌', 3), ('🐒', 3), ('🤡', 3), ('💙', 3), ('😝', 3), ('😊', 3), ('💪', 2), ('😅', 2), ('📸', 2), ('✨', 2), ('➡', 2), ('♀', 2), ('➖', 2), ('😱', 2), ('👁', 2), ('🇪', 2), ('🎚', 2), ('🎁', 2), ('😳', 2), ('💀', 2), ('💰', 2), ('💫', 2), ('♥', 2), ('💓', 2), ('✌', 2), ('🎅', 2), ('🥰', 2), ('🐏', 2), ('💔', 2), ('🌟', 2), ('👊', 2), ('🛍', 1), ('🎷', 1), ('🎆', 1), ('💞', 1), ('🇷', 1), ('✈', 1), ('✋', 1), ('🤦', 1), ('👌', 1), ('🐎', 1), ('🤤', 1), ('☹', 1), ('🇩', 1), ('®', 1), ('👮', 1), ('🍕', 1), ('🙌', 1), ('🧐', 1), ('🌃', 1), ('🤮', 1), ('🌇', 1), ('⛴', 1), ('😏', 1), ('👆', 1), ('🛌', 1), ('😦', 1), ('🌎', 1), ('🗓', 1), ('🌈', 1), ('😜', 1), ('😔', 1), ('😀', 1), ('🇫', 1), ('😁', 1), ('🌆', 1), ('👉', 1), ('🥴', 1), ('🙋', 1), ('💥', 1), ('😩', 1), ('🚑', 1), ('🐵', 1), ('⚠', 1), ('🎑', 1), ('🥶', 1), ('🤠', 1), ('🤗', 1), ('🐼', 1), ('♾', 1), ('🦍', 1), ('🏙', 1), ('😪', 1), ('🍎', 1), ('🔐', 1), ('🌭', 1), ('😬', 1)]\n",
      "3.7478520732162868\n",
      "Angkor Wat\n",
      "[('🇭', 17), ('🇰', 17), ('😂', 12), ('🏽', 9), ('👏', 7), ('💕', 5), ('😍', 5), ('🙏', 4), ('🚩', 4), ('🏃', 4), ('😅', 3), ('❤', 3), ('📷', 3), ('♂', 3), ('♀', 3), ('🥰', 3), ('👍', 3), ('🇦', 2), ('📢', 2), ('🎅', 2), ('🇨', 2), ('⛅', 2), ('🤦', 2), ('🌄', 2), ('🎄', 2), ('🐛', 2), ('🔪', 2), ('🥉', 2), ('😊', 2), ('🙇', 1), ('🌞', 1), ('❣', 1), ('🗿', 1), ('🙌', 1), ('🎶', 1), ('🤩', 1), ('🌾', 1), ('📸', 1), ('🏅', 1), ('☀', 1), ('✈', 1), ('🌏', 1), ('🙈', 1), ('🌻', 1), ('🌺', 1), ('🍌', 1), ('😑', 1), ('🌅', 1), ('😛', 1), ('😄', 1), ('🤠', 1), ('😘', 1), ('🌎', 1), ('💦', 1)]\n",
      "3.5411522633744856\n",
      "Hiroshima Peace Memorial\n",
      "[('❤', 5), ('😂', 4), ('‼', 3), ('😉', 3), ('😅', 2), ('🙌', 2), ('💚', 2), ('💦', 2), ('🥳', 1), ('🎊', 1), ('🍾', 1), ('🔥', 1), ('💞', 1), ('🎉', 1), ('🏽', 1), ('👌', 1), ('🥶', 1), ('🤣', 1), ('💛', 1), ('👍', 1), ('😋', 1), ('🤟', 1), ('🧡', 1), ('🎵', 1)]\n",
      "3.392857142857143\n",
      "Martin Luther King Jr. Memorial\n",
      "[('😂', 13), ('🏽', 3), ('👇', 3), ('📅', 1), ('😍', 1), ('🏿', 1), ('🇸', 1), ('🌌', 1), ('🤦', 1), ('🕓', 1), ('📍', 1), ('😔', 1), ('🇺', 1), ('♂', 1), ('🍽', 1)]\n",
      "3.3545454545454545\n",
      "Victoria Falls\n",
      "[('😂', 12), ('😢', 11), ('🚨', 10), ('👉', 9), ('🇿', 9), ('🏿', 9), ('😭', 6), ('🇼', 6), ('🔥', 4), ('🔴', 4), ('✊', 4), ('🇲', 3), ('😱', 3), ('😳', 3), ('🌍', 3), ('⬇', 3), ('😬', 2), ('😮', 2), ('🖕', 2), ('🐘', 2), ('💔', 2), ('🤯', 2), ('💥', 2), ('✈', 2), ('🏽', 2), ('💦', 2), ('🛣', 2), ('🤔', 2), ('😍', 1), ('🙄', 1), ('🏾', 1), ('😔', 1), ('🤮', 1), ('♂', 1), ('🌏', 1), ('🚠', 1), ('➡', 1), ('🤦', 1), ('🤕', 1), ('😟', 1), ('⛑', 1), ('🌎', 1)]\n",
      "2.7230971128608923\n",
      "Table Mountain National Park\n",
      "[('😂', 53), ('🇦', 23), ('🇿', 23), ('🤣', 18), ('😭', 15), ('🔥', 12), ('⛰', 12), ('⭐', 11), ('📍', 8), ('❤', 8), ('💫', 8), ('😍', 8), ('📸', 7), ('🏾', 7), ('🙌', 7), ('🏔', 7), ('💛', 7), ('😋', 6), ('✨', 5), ('😀', 5), ('🏻', 5), ('👏', 5), ('😅', 4), ('🥳', 4), ('👌', 4), ('🎄', 4), ('🙏', 4), ('♥', 4), ('🗣', 3), ('♂', 3), ('🏽', 3), ('🤦', 3), ('✊', 3), ('👇', 3), ('😱', 3), ('🧡', 3), ('😁', 3), ('🤗', 3), ('💯', 3), ('🥊', 3), ('💃', 3), ('💪', 2), ('🌳', 2), ('🧢', 2), ('🌍', 2), ('🍹', 2), ('☹', 2), ('🌅', 2), ('🌱', 2), ('🏼', 2), ('📝', 2), ('🙈', 2), ('💀', 2), ('🎩', 2), ('☺', 2), ('🚶', 2), ('😜', 2), ('😔', 2), ('🎶', 2), ('🎼', 2), ('🕶', 2), ('🌿', 2), ('👍', 2), ('⛳', 2), ('🖕', 2), ('🌟', 2), ('👊', 2), ('😐', 2), ('☀', 2), ('🌄', 2), ('👴', 2), ('🤬', 2), ('😊', 2), ('🍻', 1), ('🥵', 1), ('🙂', 1), ('💚', 1), ('🏖', 1), ('💩', 1), ('✈', 1), ('🐆', 1), ('🧠', 1), ('🙃', 1), ('🗻', 1), ('🎵', 1), ('😎', 1), ('🥗', 1), ('🤪', 1), ('🥥', 1), ('🇪', 1), ('🎚', 1), ('🤶', 1), ('👋', 1), ('🍕', 1), ('💭', 1), ('🧐', 1), ('🎁', 1), ('📷', 1), ('🇨', 1), ('😳', 1), ('🏿', 1), ('🚠', 1), ('🐍', 1), ('💰', 1), ('😏', 1), ('🌴', 1), ('🌎', 1), ('😇', 1), ('🐧', 1), ('👧', 1), ('🐥', 1), ('🎅', 1), ('🤨', 1), ('🥴', 1), ('👑', 1), ('🌺', 1), ('🥰', 1), ('📲', 1), ('💍', 1), ('🥺', 1), ('☁', 1), ('🤔', 1), ('🌞', 1), ('\\U0001f90d', 1), ('❣', 1), ('🤩', 1), ('🏙', 1), ('🇱', 1), ('😢', 1), ('🎉', 1), ('🙆', 1), ('😉', 1), ('🇸', 1), ('😯', 1)]\n",
      "3.3626251390433817\n",
      "9/11 Memorial Museum\n",
      "[('⚡', 15), ('✨', 8), ('😍', 6), ('😂', 6), ('🤣', 5), ('🇪', 3), ('🌈', 3), ('❤', 3), ('🏻', 3), ('📸', 3), ('♀', 3), ('🍌', 3), ('🍀', 3), ('🇸', 3), ('🤟', 3), ('🏾', 2), ('🙌', 2), ('🖤', 2), ('🎅', 2), ('📌', 2), ('☀', 2), ('🏃', 2), ('🏽', 2), ('🎧', 2), ('🌲', 2), ('🌇', 2), ('♥', 2), ('🎵', 2), ('🤪', 1), ('💪', 1), ('🚆', 1), ('🤗', 1), ('🍋', 1), ('🦵', 1), ('🤭', 1), ('💙', 1), ('🤩', 1), ('🔥', 1), ('🧚', 1), ('🎗', 1), ('🧵', 1), ('♂', 1), ('✈', 1), ('🌍', 1), ('🎫', 1), ('🛫', 1), ('🤦', 1), ('🤕', 1), ('🥰', 1), ('🖼', 1), ('💫', 1), ('🧭', 1), ('🥂', 1), ('☃', 1), ('💖', 1), ('👰', 1), ('☕', 1), ('❄', 1), ('🏼', 1), ('😊', 1), ('✝', 1), ('😬', 1), ('👇', 1), ('🛬', 1), ('👁', 1)]\n",
      "3.401098901098901\n",
      "Sagrada Família church\n",
      "[('✏', 13), ('❤', 6), ('🖤', 6), ('👉', 5), ('✨', 5), ('🎶', 4), ('🌹', 4), ('🔶', 4), ('🚨', 4), ('🤔', 4), ('✒', 3), ('🚀', 3), ('🏾', 3), ('🔥', 3), ('😂', 3), ('🙄', 2), ('👻', 2), ('💔', 2), ('💙', 2), ('🏻', 2), ('📸', 2), ('🇺', 2), ('💯', 2), ('♀', 2), ('🇸', 2), ('👀', 2), ('😎', 2), ('😇', 2), ('😷', 1), ('📈', 1), ('😍', 1), ('😅', 1), ('⛽', 1), ('🌔', 1), ('💋', 1), ('⭐', 1), ('💻', 1), ('👨', 1), ('🎥', 1), ('👊', 1), ('♻', 1), ('🗣', 1), ('🏢', 1), ('👈', 1), ('🐶', 1), ('💁', 1), ('🎁', 1), ('🐷', 1), ('🧖', 1), ('🥴', 1), ('🎉', 1), ('🏃', 1), ('🏽', 1), ('🌗', 1), ('🌓', 1), ('🦉', 1), ('😌', 1), ('🐾', 1), ('🌘', 1), ('💰', 1), ('🎄', 1), ('🌕', 1), ('✂', 1), ('🌖', 1), ('💖', 1), ('☘', 1), ('🌒', 1), ('🤓', 1), ('😘', 1), ('⚰', 1), ('🌎', 1)]\n",
      "3.4654377880184333\n",
      "Burj Khalifa\n",
      "[('😂', 26), ('😍', 19), ('❤', 18), ('💑', 16), ('🇪', 15), ('🇦', 14), ('📍', 14), ('🌐', 11), ('🥰', 11), ('🤣', 8), ('🤮', 7), ('👑', 7), ('✨', 5), ('😭', 5), ('🔥', 5), ('☕', 5), ('💙', 5), ('🇹', 4), ('♂', 4), ('♀', 4), ('🏾', 4), ('🙏', 4), ('👍', 4), ('🥺', 4), ('🥐', 4), ('🎉', 4), ('💯', 4), ('😅', 3), ('📸', 3), ('🇷', 3), ('🤦', 3), ('🏼', 3), ('😘', 3), ('🙌', 3), ('📷', 3), ('🌊', 3), ('🇴', 3), ('🌧', 3), ('💪', 2), ('⚡', 2), ('🌪', 2), ('💞', 2), ('✈', 2), ('🏽', 2), ('🌍', 2), ('👇', 2), ('😎', 2), ('🚀', 2), ('🗼', 2), ('🇭', 2), ('👳', 2), ('🇮', 2), ('💫', 2), ('🌴', 2), ('☝', 2), ('🏻', 2), ('👉', 2), ('😩', 2), ('🥂', 2), ('💕', 2), ('👷', 2), ('🏙', 2), ('😪', 2), ('🍰', 2), ('🚨', 2), ('💜', 1), ('🤭', 1), ('🥳', 1), ('🔆', 1), ('⚜', 1), ('🇧', 1), ('📰', 1), ('⬇', 1), ('👌', 1), ('🎄', 1), ('🌲', 1), ('🌁', 1), ('😃', 1), ('😱', 1), ('🦋', 1), ('🎋', 1), ('🇬', 1), ('🎁', 1), ('📢', 1), ('🌃', 1), ('🙊', 1), ('⏰', 1), ('🙈', 1), ('😌', 1), ('☃', 1), ('♥', 1), ('💎', 1), ('🧡', 1), ('🏆', 1), ('💓', 1), ('💄', 1), ('🌈', 1), ('🎇', 1), ('😔', 1), ('🐬', 1), ('🌆', 1), ('🧁', 1), ('⛵', 1), ('🎅', 1), ('🏤', 1), ('🌸', 1), ('🐫', 1), ('❄', 1), ('🤟', 1), ('👏', 1), ('☁', 1), ('👫', 1), ('🌞', 1), ('🤗', 1), ('❣', 1), ('👊', 1), ('🎈', 1), ('☎', 1), ('🤩', 1), ('🇱', 1), ('✉', 1), ('☀', 1), ('🙆', 1), ('💝', 1)]\n",
      "3.5123456790123457\n",
      "Auschwitz-Birkenau State Museum, Poland\n",
      "[('🕯', 1), ('🇵', 1), ('🇱', 1)]\n",
      "3.7142857142857144\n",
      "Sydney Opera House\n",
      "[('😍', 12), ('🤣', 7), ('❤', 4), ('😭', 3), ('🇦', 3), ('🇺', 3), ('📷', 2), ('✨', 2), ('😂', 2), ('🦋', 2), ('🚦', 1), ('🛥', 1), ('📼', 1), ('🤙', 1), ('😁', 1), ('🏻', 1), ('🔥', 1), ('👩', 1), ('😪', 1), ('🌶', 1), ('🏦', 1), ('📌', 1), ('👉', 1), ('🥴', 1), ('🏽', 1), ('🥩', 1), ('😸', 1), ('💘', 1), ('🚏', 1), ('📽', 1), ('💛', 1), ('💿', 1), ('👀', 1), ('🥺', 1), ('🎓', 1), ('☺', 1), ('💎', 1), ('💦', 1), ('😊', 1)]\n",
      "3.1955128205128207\n",
      "Taj Mahal\n",
      "[('❤', 11), ('👋', 4), ('👍', 4), ('🇳', 3), ('🇮', 3), ('😂', 3), ('💺', 2), ('💪', 2), ('🤗', 2), ('💤', 2), ('😴', 2), ('🏻', 2), ('🙏', 2), ('📷', 2), ('😏', 2), ('🕌', 2), ('😘', 2), ('👏', 2), ('👇', 2), ('😁', 1), ('✨', 1), ('🌍', 1), ('💯', 1), ('👌', 1), ('🥰', 1), ('🤣', 1), ('♥', 1), ('😇', 1)]\n",
      "3.3935018050541514\n",
      "Old Havana\n",
      "[('🇺', 29), ('🇨', 27), ('😭', 18), ('😍', 11), ('😂', 9), ('🤣', 8), ('💀', 7), ('✨', 6), ('😎', 5), ('❤', 5), ('💔', 5), ('♥', 4), ('😩', 4), ('🤙', 4), ('💃', 4), ('♀', 3), ('🔥', 3), ('🌹', 3), ('💙', 3), ('🌿', 3), ('👍', 3), ('😡', 3), ('😢', 3), ('🚨', 3), ('😊', 3), ('🥳', 2), ('😞', 2), ('📸', 2), ('👣', 2), ('📰', 2), ('🎂', 2), ('🎄', 2), ('🤘', 2), ('😋', 2), ('🦋', 2), ('🙏', 2), ('📷', 2), ('🏌', 2), ('💖', 2), ('🌈', 2), ('✌', 2), ('🤢', 2), ('🏻', 2), ('🎶', 2), ('💥', 2), ('🙋', 2), ('🌺', 2), ('🥂', 2), ('🥺', 2), ('🌞', 2), ('⚕', 2), ('😉', 2), ('🇸', 2), ('⭐', 1), ('🎹', 1), ('🍾', 1), ('🎷', 1), ('💞', 1), ('💟', 1), ('🏽', 1), ('⬇', 1), ('🎧', 1), ('🤦', 1), ('👌', 1), ('🍸', 1), ('😛', 1), ('🙁', 1), ('⚪', 1), ('🙃', 1), ('😘', 1), ('🕺', 1), ('😷', 1), ('🤪', 1), ('🎯', 1), ('🇦', 1), ('🔸', 1), ('🏾', 1), ('👋', 1), ('🎥', 1), ('😳', 1), ('😌', 1), ('😹', 1), ('😒', 1), ('🆕', 1), ('🎬', 1), ('🌎', 1), ('🌴', 1), ('⚾', 1), ('🔴', 1), ('💓', 1), ('🚶', 1), ('🚗', 1), ('👨', 1), ('😁', 1), ('👩', 1), ('🥰', 1), ('📲', 1), ('🍷', 1), ('💕', 1), ('🇲', 1), ('🤯', 1), ('©', 1)]\n",
      "3.3982558139534884\n",
      "Golden Gate Bridge\n",
      "[('🌉', 29), ('🌁', 14), ('❤', 14), ('🥺', 9), ('🇺', 8), ('🌞', 8), ('🇸', 8), ('🤣', 5), ('😍', 5), ('🍀', 4), ('🍃', 4), ('💛', 4), ('📸', 3), ('😂', 3), ('✌', 3), ('✅', 3), ('🏽', 2), ('✈', 2), ('📍', 2), ('📷', 2), ('🙈', 2), ('💖', 2), ('🎓', 2), ('🌴', 2), ('⚾', 2), ('🧦', 2), ('🤨', 2), ('☁', 2), ('⚽', 2), ('😡', 2), ('❣', 2), ('🖤', 2), ('©', 2), ('😉', 2), ('🌼', 1), ('☮', 1), ('😰', 1), ('👣', 1), ('🤦', 1), ('♀', 1), ('🎂', 1), ('😆', 1), ('😣', 1), ('🎵', 1), ('😱', 1), ('😎', 1), ('💋', 1), ('🏾', 1), ('🤶', 1), ('🎥', 1), ('🔥', 1), ('🎁', 1), ('🏃', 1), ('🌏', 1), ('😌', 1), ('✔', 1), ('💰', 1), ('🆕', 1), ('🌇', 1), ('♥', 1), ('🤡', 1), ('📹', 1), ('🙄', 1), ('🌊', 1), ('💐', 1), ('💙', 1), ('😁', 1), ('🏻', 1), ('🎶', 1), ('👩', 1), ('🎅', 1), ('👉', 1), ('🌸', 1), ('🌺', 1), ('🥰', 1), ('👍', 1), ('😐', 1), ('🤯', 1), ('⚕', 1), ('🏨', 1), ('💯', 1), ('🚙', 1), ('😊', 1)]\n",
      "3.312041884816754\n",
      "Saint Basil's Cathedral\n",
      "[('🇺', 9), ('🇷', 9), ('✨', 5), ('🖤', 3), ('🔥', 3), ('❓', 3), ('❄', 3), ('💃', 3), ('🌈', 2), ('🙌', 2), ('💞', 2), ('🎄', 2), ('😂', 2), ('😍', 1), ('🤗', 1), ('😅', 1), ('🚀', 1), ('🍬', 1), ('📦', 1), ('📍', 1), ('❤', 1), ('🐄', 1), ('⛪', 1), ('📯', 1), ('😁', 1), ('🍵', 1), ('🎶', 1), ('🙏', 1), ('🎼', 1), ('📷', 1), ('🎤', 1), ('🛰', 1), ('🎅', 1), ('☀', 1), ('👌', 1), ('🎂', 1), ('💲', 1), ('☕', 1), ('🕌', 1), ('❗', 1), ('🛸', 1), ('😇', 1), ('⛄', 1)]\n",
      "3.2152777777777777\n",
      "Yellowstone National Park\n",
      "[]\n",
      "3.5555555555555554\n"
     ]
    }
   ],
   "source": [
    "for i in masterlist:\n",
    "    print(i[1])\n",
    "    print(sorted_emojicount(i[5]))\n",
    "    print(i[6])"
   ]
  },
  {
   "cell_type": "markdown",
   "metadata": {},
   "source": [
    "# FUNCTIONS (FRONT)"
   ]
  },
  {
   "cell_type": "code",
   "execution_count": 103,
   "metadata": {},
   "outputs": [],
   "source": [
    "def top5emoji(dictionary):\n",
    "    sorted_list = sorted_emojicount(dictionary)\n",
    "    \n",
    "    print(\"The top emojis used at this destination are : \")\n",
    "    \n",
    "    if len(sorted_list) >= 5:\n",
    "        for i in range(0,5):\n",
    "            print(sorted_list[i][0])\n",
    "            \n",
    "    elif len(sorted_list)<5:\n",
    "        for i in range(len(sorted_list)):\n",
    "            print(sorted_list[i][0])\n",
    "    else:\n",
    "        print(\"\")\n",
    "\n",
    "# top5emoji(masterlist[1][5])"
   ]
  },
  {
   "cell_type": "code",
   "execution_count": 104,
   "metadata": {},
   "outputs": [
    {
     "name": "stdout",
     "output_type": "stream",
     "text": [
      "The top emojis used at this destination are : \n",
      "🇷\n",
      "🇫\n",
      "😂\n",
      "❤\n",
      "😭\n",
      "None\n",
      "The top emojis used at this destination are : \n",
      "🇪\n",
      "🇬\n",
      "♥\n",
      "❤\n",
      "🍗\n",
      "None\n",
      "The top emojis used at this destination are : \n",
      "🇮\n",
      "🇹\n",
      "😍\n",
      "❤\n",
      "🎄\n",
      "None\n",
      "The top emojis used at this destination are : \n",
      "❤\n",
      "🇪\n",
      "🇵\n",
      "😂\n",
      "🤩\n",
      "None\n",
      "The top emojis used at this destination are : \n",
      "🗽\n",
      "😂\n",
      "🇺\n",
      "🇳\n",
      "🇮\n",
      "None\n",
      "The top emojis used at this destination are : \n",
      "🇭\n",
      "🇰\n",
      "😂\n",
      "🏽\n",
      "👏\n",
      "None\n",
      "The top emojis used at this destination are : \n",
      "❤\n",
      "😂\n",
      "‼\n",
      "😉\n",
      "😅\n",
      "None\n",
      "The top emojis used at this destination are : \n",
      "😂\n",
      "🏽\n",
      "👇\n",
      "📅\n",
      "😍\n",
      "None\n",
      "The top emojis used at this destination are : \n",
      "😂\n",
      "😢\n",
      "🚨\n",
      "👉\n",
      "🇿\n",
      "None\n",
      "The top emojis used at this destination are : \n",
      "😂\n",
      "🇦\n",
      "🇿\n",
      "🤣\n",
      "😭\n",
      "None\n",
      "The top emojis used at this destination are : \n",
      "⚡\n",
      "✨\n",
      "😍\n",
      "😂\n",
      "🤣\n",
      "None\n",
      "The top emojis used at this destination are : \n",
      "✏\n",
      "❤\n",
      "🖤\n",
      "👉\n",
      "✨\n",
      "None\n",
      "The top emojis used at this destination are : \n",
      "😂\n",
      "😍\n",
      "❤\n",
      "💑\n",
      "🇪\n",
      "None\n",
      "The top emojis used at this destination are : \n",
      "🕯\n",
      "🇵\n",
      "🇱\n",
      "None\n",
      "The top emojis used at this destination are : \n",
      "😍\n",
      "🤣\n",
      "❤\n",
      "😭\n",
      "🇦\n",
      "None\n",
      "The top emojis used at this destination are : \n",
      "❤\n",
      "👋\n",
      "👍\n",
      "🇳\n",
      "🇮\n",
      "None\n",
      "The top emojis used at this destination are : \n",
      "🇺\n",
      "🇨\n",
      "😭\n",
      "😍\n",
      "😂\n",
      "None\n",
      "The top emojis used at this destination are : \n",
      "🌉\n",
      "🌁\n",
      "❤\n",
      "🥺\n",
      "🇺\n",
      "None\n",
      "The top emojis used at this destination are : \n",
      "🇺\n",
      "🇷\n",
      "✨\n",
      "🖤\n",
      "🔥\n",
      "None\n",
      "The top emojis used at this destination are : \n",
      "None\n"
     ]
    }
   ],
   "source": [
    "for i in masterlist:\n",
    "    print(top5emoji(i[5]))"
   ]
  },
  {
   "cell_type": "code",
   "execution_count": 54,
   "metadata": {},
   "outputs": [],
   "source": [
    "def classification_based_score(df):\n",
    "    pos_word_score = pd.DataFrame({'pos_score':df.loc[df['Score'] > 3, 'Score']})\n",
    "    # print(pos_word_score)\n",
    "\n",
    "    pos_word_score['pos_score'] = pos_word_score['pos_score'].astype('int')\n",
    "\n",
    "    print(\"Positive sentiment : \",pos_word_score['pos_score'].mean())\n",
    "    print(\"Positive tweets : \",pos_word_score['pos_score'].count())\n",
    "\n",
    "\n",
    "    neg_word_score = pd.DataFrame({'neg_score':df.loc[df['Score'] < 3, 'Score']})\n",
    "    # print(pos_word_score)\n",
    "\n",
    "    neg_word_score['neg_score'] = neg_word_score['neg_score'].astype('int')\n",
    "\n",
    "    print(\"Negative sentiment : \",neg_word_score['neg_score'].mean())\n",
    "    print(\"Negative tweets : \",neg_word_score['neg_score'].count())\n",
    "\n",
    "\n",
    "    neu_word_score = pd.DataFrame({'neu_score':df.loc[df['Score'] == 3, 'Score']})\n",
    "    # print(pos_word_score)\n",
    "\n",
    "    neu_word_score['neu_score'] = neu_word_score['neu_score'].astype('int')\n",
    "\n",
    "    print(\"Neutral sentiment : \",neu_word_score['neu_score'].mean())\n",
    "    print(\"Neutral tweets : \",neu_word_score['neu_score'].count())"
   ]
  },
  {
   "cell_type": "code",
   "execution_count": 55,
   "metadata": {},
   "outputs": [
    {
     "name": "stdout",
     "output_type": "stream",
     "text": [
      "Positive sentiment :  4.4296875\n",
      "Positive tweets :  128\n",
      "Negative sentiment :  1.55\n",
      "Negative tweets :  40\n",
      "Neutral sentiment :  3.0\n",
      "Neutral tweets :  152\n"
     ]
    }
   ],
   "source": [
    "#driver\n",
    "classification_based_score(EiffelTweets)"
   ]
  },
  {
   "cell_type": "code",
   "execution_count": 56,
   "metadata": {},
   "outputs": [],
   "source": [
    "def toptweets_positive(df):\n",
    "    first=None\n",
    "    second=None\n",
    "    third=None\n",
    "    a = df.loc[df['Loc_key'] == \"Keyword\"]\n",
    "    b = a.loc[df['Score'] >= 4.0]\n",
    "    c = df.loc[df['Loc_key'] == \"Location\"]\n",
    "    d = c.loc[df['Score'] >= 4.0]\n",
    "    try:\n",
    "        first = b.loc[b['Top_fav_follower'] == 1.0, 'Text'].values[0]\n",
    "        print(\"Top positive tweets by follower:\")\n",
    "        print(first)\n",
    "    except:\n",
    "        print(\"There are no positive tweets at this location.\")\n",
    "    try:\n",
    "        second = b.loc[b['Top_fav_follower'] == 2.0, 'Text'].values[0]\n",
    "        print(second)\n",
    "    except:\n",
    "#         print(\"No follower at 2\")\n",
    "        try:\n",
    "            second = d.loc[d['Top_fav_follower'] == 1.0, 'Text'].values[0]\n",
    "            print(second)\n",
    "        except:\n",
    "            print()\n",
    "    try:\n",
    "        third = b.loc[b['Top_fav_follower'] == 3.0, 'Text'].values[0]\n",
    "        print(third)\n",
    "    except:\n",
    "#         print(\"No follower at 3\")\n",
    "        try:\n",
    "            third = d.loc[d['Top_fav_follower'] == 1.0, 'Text'].values[0]\n",
    "            print(third)\n",
    "        except:\n",
    "            print()\n",
    "        "
   ]
  },
  {
   "cell_type": "code",
   "execution_count": 57,
   "metadata": {},
   "outputs": [],
   "source": [
    "# toptweets_positive(EiffelTweets)"
   ]
  },
  {
   "cell_type": "code",
   "execution_count": 58,
   "metadata": {},
   "outputs": [],
   "source": [
    "def toptweets_negative(df):\n",
    "    first=None\n",
    "    second=None\n",
    "    third=None\n",
    "    a = df.loc[df['Loc_key'] == \"Keyword\"]\n",
    "    b = a.loc[df['Score'] <= 2.0]\n",
    "    c = df.loc[df['Loc_key'] == \"Location\"]\n",
    "    d = c.loc[df['Score'] <= 2.0]\n",
    "    try:\n",
    "        first = b.loc[b['Top_fav_follower'] == 1.0, 'Text'].values[0]\n",
    "        print(\"Top negative tweets by follower:\")\n",
    "        print(first)\n",
    "    except:\n",
    "        print(\"There are no negative tweets at this location.\")\n",
    "    try:\n",
    "        second = b.loc[b['Top_fav_follower'] == 2.0, 'Text'].values[0]\n",
    "        print(second)\n",
    "    except:\n",
    "        try:\n",
    "            second = d.loc[d['Top_fav_follower'] == 1.0, 'Text'].values[0]\n",
    "            print(second)\n",
    "        except:\n",
    "            print()\n",
    "    try:\n",
    "        third = b.loc[b['Top_fav_follower'] == 3.0, 'Text'].values[0]\n",
    "        print(third)\n",
    "    except:\n",
    "        try:\n",
    "            third = d.loc[d['Top_fav_follower'] == 1.0, 'Text'].values[0]\n",
    "            print(third)\n",
    "        except:\n",
    "            print()\n",
    "        "
   ]
  },
  {
   "cell_type": "code",
   "execution_count": 59,
   "metadata": {},
   "outputs": [],
   "source": [
    "# toptweets_negative(YellowStone_tweets)\n",
    "\n",
    "# toptweets_positive(YellowStone_tweets)"
   ]
  },
  {
   "cell_type": "code",
   "execution_count": 60,
   "metadata": {},
   "outputs": [],
   "source": [
    "def senti_hist_LocandKey(df):\n",
    "#     plt.figure(figsize=(8, 6))\n",
    "#     plt.subplot(111)\n",
    "#     newdataframe = df[df['Loc_key'] == \"Location\"]\n",
    "#     newdataframe['Score'].value_counts().plot(kind=\"bar\")\n",
    "#     plt.ylabel(\"Number of Tweets\")\n",
    "#     plt.title(\"Number of Tweets based on sentiment\");\n",
    "#     plt.legend()\n",
    "    \n",
    "    Loc = df[df['Loc_key'] == \"Location\"]\n",
    "    key = df[df['Loc_key'] == \"Keyword\"]\n",
    "    \n",
    "#     Loc.plot.hist(x=key['Score'])\n",
    "#     Loc[\"Score\"].plot.hist()\n",
    "    \n",
    "    plt.hist([key['Score'].value_counts(), Loc['Score'].value_counts()], label=['By Keyword', 'By Location'])\n",
    "    plt.ylabel(\"Sentiment < 1 [Neg.] --- 5 [Positive]>\")\n",
    "    plt.xlabel(\"Frequency of Tweets \");\n",
    "    plt.legend(loc='upper right')\n",
    "    plt.show()"
   ]
  },
  {
   "cell_type": "code",
   "execution_count": 61,
   "metadata": {},
   "outputs": [],
   "source": [
    "# b = EiffelTweets[(EiffelTweets['Top_fav_follower'] == 1)]\n",
    "# b[0]\n",
    "\n",
    "# if len(b) > 0:\n",
    "#     pos1 = b[0][\"Text\"]\n",
    "#     pos2 = b[1][\"Text\"]\n",
    "#     pos3 = b[2][\"Text\"]\n",
    "\n",
    "# print(pos1)"
   ]
  },
  {
   "cell_type": "markdown",
   "metadata": {},
   "source": [
    "### MAP "
   ]
  },
  {
   "cell_type": "code",
   "execution_count": 62,
   "metadata": {},
   "outputs": [],
   "source": [
    "def make_point(row):\n",
    "    return Point(float(row.Long), float(row.Lat))"
   ]
  },
  {
   "cell_type": "code",
   "execution_count": 63,
   "metadata": {},
   "outputs": [],
   "source": [
    "def sentiment_map():\n",
    "    master_map = pd.DataFrame(masterlist)\n",
    "    master_map.columns = ['Cities','Attraction','AttractionType','Lat','Long','Emoji','Sentiment']\n",
    "    \n",
    "    # Go through every row, and make a point out of its lat and lon\n",
    "    points = master_map.apply(make_point, axis=1)\n",
    "\n",
    "    # Make a new GeoDataFrame\n",
    "    # using the data from our old df\n",
    "    # but also adding in the geometry we just made\n",
    "    final = gpd.GeoDataFrame(master_map, geometry=points)\n",
    "\n",
    "    # It doesn't come with a CRS because it's a CSV, so let's\n",
    "    # say \"hey, let's use the standard shape of the earth etc\"\n",
    "    final.crs = {'init': 'epsg:4326'}\n",
    "    \n",
    "    #by sentiment analysis\n",
    "\n",
    "    world = gpd.read_file(gpd.datasets.get_path('naturalearth_lowres'))\n",
    "    # Save the first layer as ax\n",
    "    ax = world.plot(color='lightgrey', linewidth=0.5, edgecolor='white', figsize=(20,7))\n",
    "    # Pass ax=ax to the second layer\n",
    "    plt.title(\"Top 20 Global Cities by Sentiment Analysis\")\n",
    "    final.plot(column='Sentiment', figsize=(20,7), ax=ax, legend=True, alpha=0.5, markersize=120);\n",
    "    ax.axis('off')\n",
    "    plt.show()"
   ]
  },
  {
   "cell_type": "code",
   "execution_count": 64,
   "metadata": {},
   "outputs": [],
   "source": [
    "# sentiment_map()"
   ]
  },
  {
   "cell_type": "code",
   "execution_count": 65,
   "metadata": {},
   "outputs": [],
   "source": [
    "def attractiontype_map():\n",
    "    master_map = pd.DataFrame(masterlist)\n",
    "    master_map.columns = ['Cities','Attraction','AttractionType','Lat','Long','Emoji','Sentiment']\n",
    "    \n",
    "    # Go through every row, and make a point out of its lat and lon\n",
    "    points = master_map.apply(make_point, axis=1)\n",
    "\n",
    "    # Make a new GeoDataFrame\n",
    "    # using the data from our old df\n",
    "    # but also adding in the geometry we just made\n",
    "    final = gpd.GeoDataFrame(master_map, geometry=points)\n",
    "\n",
    "    # It doesn't come with a CRS because it's a CSV, so let's\n",
    "    # say \"hey, let's use the standard shape of the earth etc\"\n",
    "    final.crs = {'init': 'epsg:4326'}\n",
    "    \n",
    "    #by sentiment analysis\n",
    "\n",
    "    world = gpd.read_file(gpd.datasets.get_path('naturalearth_lowres'))\n",
    "    # Save the first layer as ax\n",
    "    ax = world.plot(color='lightgrey', linewidth=0.5, edgecolor='white', figsize=(20,7))\n",
    "    # Pass ax=ax to the second layer\n",
    "    plt.title(\"Top 20 Global Cities by Attraction Type\")\n",
    "    final.plot(column='AttractionType', figsize=(20,7), ax=ax, legend=True, alpha=0.5, markersize=120);\n",
    "    ax.axis('off')\n",
    "    plt.show()"
   ]
  },
  {
   "cell_type": "markdown",
   "metadata": {},
   "source": [
    "# Histogram of time of day"
   ]
  },
  {
   "cell_type": "code",
   "execution_count": 66,
   "metadata": {},
   "outputs": [],
   "source": [
    "EiffelTweets.head()\n",
    "EiffelTweets.to_csv(\"eiffel.csv\", sep=',', header=None, index=None)\n"
   ]
  },
  {
   "cell_type": "code",
   "execution_count": 67,
   "metadata": {},
   "outputs": [],
   "source": [
    "for destination in destinationlist:\n",
    "    destination['Hours'] = destination['Time'].dt.hour"
   ]
  },
  {
   "cell_type": "code",
   "execution_count": null,
   "metadata": {},
   "outputs": [],
   "source": []
  },
  {
   "cell_type": "code",
   "execution_count": 68,
   "metadata": {},
   "outputs": [],
   "source": [
    "# f = copy.plot.scatter(x='Hours', y='Score')\n",
    "# f\n"
   ]
  },
  {
   "cell_type": "code",
   "execution_count": 69,
   "metadata": {},
   "outputs": [],
   "source": [
    "# copy[\"Score\"].plot.hist()\n",
    "# # copy.plot.hist(x='Hours', y=\"Score\")"
   ]
  },
  {
   "cell_type": "code",
   "execution_count": 70,
   "metadata": {},
   "outputs": [],
   "source": [
    "#Scatter plot functions.\n",
    "\n",
    "def scatterplot_time(df):\n",
    "    \n",
    "# x = copy['Hours']\n",
    "    segment = df[df['Loc_key'] == \"Location\"]\n",
    "\n",
    "    x = segment['Hours']\n",
    "    y = segment['Score']\n",
    "\n",
    "    area = np.pi*50\n",
    "\n",
    "    # Plot\n",
    "    # plt.scatter(x, y, s=area, c=None, alpha=0.5)\n",
    "    # plt.title('Sentiment vs. Time of Day')\n",
    "    # plt.xlabel('Time')\n",
    "    # plt.ylabel('Sentiment')\n",
    "    # plt.show()\n",
    "\n",
    "    sns.stripplot(x=\"Hours\", y=\"Score\", data=segment, size=13, jitter=True)\n",
    "    sns.despine()\n"
   ]
  },
  {
   "cell_type": "code",
   "execution_count": 71,
   "metadata": {},
   "outputs": [],
   "source": [
    "rawtime = EiffelTweets['Time'].to_list()\n",
    "cleantime = []\n",
    "\n",
    "for i in range(len(rawtime)):\n",
    "    a = str(rawtime[i])\n",
    "    b = a.split(\" \")\n",
    "    c = b[1].split(\"+\")\n",
    "    d = c[0][:5]\n",
    "    e = d.replace(\":\", \".\")\n",
    "    time = float(e)\n",
    "    \n",
    "    cleantime.append(c[0])"
   ]
  },
  {
   "cell_type": "code",
   "execution_count": 72,
   "metadata": {},
   "outputs": [],
   "source": [
    "def scatterplot_time(df):\n",
    "    \n",
    "# x = copy['Hours']\n",
    "    segment = df[df['Loc_key'] == \"Location\"]\n",
    "\n",
    "    x = segment['Hours']\n",
    "    y = segment['Score']\n",
    "\n",
    "    area = np.pi*50\n",
    "\n",
    "    # Plot\n",
    "    plt.scatter(x, y, s=area, c=None, alpha=0.5)\n",
    "    plt.title('Sentiment vs. Time of Day')\n",
    "    plt.xlabel('Time')\n",
    "    plt.ylabel('Sentiment')\n",
    "    plt.show()\n",
    "\n",
    "#     sns.stripplot(x=\"Hours\", y=\"Score\", data=segment, size=10, jitter=True)\n",
    "#     sns.despine()\n",
    "\n",
    "# scatterplot_time(EiffelTweets)"
   ]
  },
  {
   "cell_type": "code",
   "execution_count": 74,
   "metadata": {},
   "outputs": [],
   "source": [
    "# # df = pd.DataFrame(columns=['Time', 'Sentiment Score'])\n",
    "# df = pd.DataFrame(columns=['Time'])\n",
    "# df['Time'] = cleantime\n",
    "# df.append(copy[\"Score\"])\n",
    "\n",
    "# # df['Sentiment Score'] = copy[\"Score\"]\n",
    "\n",
    "# # df[\"Time\"] = pd.DataFrame(cleantime)\n",
    "# df.head()"
   ]
  },
  {
   "cell_type": "code",
   "execution_count": null,
   "metadata": {},
   "outputs": [],
   "source": []
  },
  {
   "cell_type": "code",
   "execution_count": null,
   "metadata": {},
   "outputs": [],
   "source": []
  },
  {
   "cell_type": "code",
   "execution_count": null,
   "metadata": {},
   "outputs": [],
   "source": []
  },
  {
   "cell_type": "code",
   "execution_count": null,
   "metadata": {},
   "outputs": [],
   "source": []
  },
  {
   "cell_type": "code",
   "execution_count": null,
   "metadata": {},
   "outputs": [],
   "source": []
  },
  {
   "cell_type": "code",
   "execution_count": null,
   "metadata": {
    "colab": {},
    "colab_type": "code",
    "id": "fGmeYh_bpaf4"
   },
   "outputs": [],
   "source": [
    "# sophie2 = pd.DataFrame(masterlist)\n",
    "# sophie2.to_csv(\"sophie2.csv\", sep=',', header=None, index=None)\n"
   ]
  },
  {
   "cell_type": "markdown",
   "metadata": {
    "colab": {},
    "colab_type": "code",
    "id": "HeX2Vl-VPDgz"
   },
   "source": [
    "# Appending to masterlist"
   ]
  },
  {
   "cell_type": "code",
   "execution_count": null,
   "metadata": {
    "colab": {},
    "colab_type": "code",
    "id": "yayS_TV5PDgx"
   },
   "outputs": [],
   "source": [
    "#turning to csv\n",
    "# E.to_csv(\"poland.csv\", sep=',', header=None, index=None)\n"
   ]
  },
  {
   "cell_type": "code",
   "execution_count": null,
   "metadata": {
    "colab": {},
    "colab_type": "code",
    "id": "jfsor6KTPDg7"
   },
   "outputs": [],
   "source": [
    "# for i in masterlist:\n",
    "#     print(i[1])\n",
    "#     print(sorted_emojicount(i[5]))\n",
    "#     print(i[6])"
   ]
  },
  {
   "cell_type": "code",
   "execution_count": 75,
   "metadata": {
    "colab": {},
    "colab_type": "code",
    "id": "4NnoorpAPDg9"
   },
   "outputs": [],
   "source": [
    "def emoji_search(masterlist):\n",
    "    import emoji\n",
    "    flag = True\n",
    "    while flag:\n",
    "#         print(\"You can directly copy and paste the emoji's \")\n",
    "        raw_emoji = input(\"Enter the emoji in text form (ex. :grinning_face:) or you could simply copy+paste it [ 😉]:\")\n",
    "        print(\"Press 'q' to quit.\")\n",
    "        if (raw_emoji == \"q\" or raw_emoji == \"Q\") :\n",
    "            flag = False\n",
    "#         raw_emoji = \":\"+raw_emoji+\":\"\n",
    "        new_emoji = emoji.emojize(raw_emoji, use_aliases=True)\n",
    "#         new_emoji = raw_emoji\n",
    "        emojicount = []\n",
    "        for i in range(0, 20):\n",
    "            emoji_dict = masterlist[i][5] #find the emoji dictionary\n",
    "            if new_emoji in emoji_dict:\n",
    "                emojicount.append(emoji_dict[new_emoji])\n",
    "            else:\n",
    "                emojicount.append(0)\n",
    "        top1 = 0\n",
    "        top2 = 0\n",
    "        top3 = 0\n",
    "        for i in range(0,20):\n",
    "            if emojicount[i]>top1:\n",
    "                top1 = emojicount[i]\n",
    "                name1 = masterlist[i][1]\n",
    "        for i in range(0,20):\n",
    "            if emojicount[i]>top2 and emojicount[i]<top1:\n",
    "                top2 = emojicount[i]\n",
    "                name2 = masterlist[i][1]\n",
    "        for i in range(0,20):\n",
    "            if emojicount[i]>=top3 and emojicount[i]<top2:\n",
    "                top3 = emojicount[i]\n",
    "                name3 = masterlist[i][1]\n",
    "        if top1 == 0 and flag == True:\n",
    "            print(\"This emoji was not used in our dataset.\")\n",
    "        elif flag == True:\n",
    "            print(\"=======================================================<>=====================================================\\n \\n\")\n",
    "\n",
    "            print(\"The top destination that uses this emoji is the \" + name1 + \", where it was used \" + str(top1) + \" times.\\n\")\n",
    "            if top2 != 0:\n",
    "                print(\"The second most popular destination with this emoji is the \" + name2 + \", where it was used \" + str(top2) + \" times.\\n\")\n",
    "            if top3 !=0:\n",
    "                print(\"The third most popular destination with this emoji is the \" + name3 + \", where it was used \" + str(top3) + \" times.\\n\")\n",
    "#     for emoji_dictionary in listdicts:\n",
    "#         if new_emoji in emoji_dictionary:\n",
    "#             print(emoji_dictionary[new_emoji])\n",
    "#write in error message for zero"
   ]
  },
  {
   "cell_type": "code",
   "execution_count": 76,
   "metadata": {},
   "outputs": [],
   "source": [
    "# emoji_search(masterlist)"
   ]
  },
  {
   "cell_type": "code",
   "execution_count": null,
   "metadata": {},
   "outputs": [],
   "source": []
  },
  {
   "cell_type": "markdown",
   "metadata": {
    "colab_type": "text",
    "id": "xwzlWPmRPDg_"
   },
   "source": [
    "# Scratch paper\n",
    "testing things, notes, etc"
   ]
  },
  {
   "cell_type": "code",
   "execution_count": 77,
   "metadata": {
    "colab": {},
    "colab_type": "code",
    "id": "MSICNTESPDhB"
   },
   "outputs": [
    {
     "data": {
      "text/html": [
       "<div>\n",
       "<style scoped>\n",
       "    .dataframe tbody tr th:only-of-type {\n",
       "        vertical-align: middle;\n",
       "    }\n",
       "\n",
       "    .dataframe tbody tr th {\n",
       "        vertical-align: top;\n",
       "    }\n",
       "\n",
       "    .dataframe thead th {\n",
       "        text-align: right;\n",
       "    }\n",
       "</style>\n",
       "<table border=\"1\" class=\"dataframe\">\n",
       "  <thead>\n",
       "    <tr style=\"text-align: right;\">\n",
       "      <th></th>\n",
       "      <th>0</th>\n",
       "      <th>1</th>\n",
       "      <th>2</th>\n",
       "      <th>3</th>\n",
       "      <th>4</th>\n",
       "      <th>5</th>\n",
       "      <th>6</th>\n",
       "    </tr>\n",
       "  </thead>\n",
       "  <tbody>\n",
       "    <tr>\n",
       "      <th>0</th>\n",
       "      <td>Paris, France</td>\n",
       "      <td>Eiffel Tower</td>\n",
       "      <td>Landmark</td>\n",
       "      <td>48.8584</td>\n",
       "      <td>2.2945</td>\n",
       "      <td>{'✅': 2, '😍': 4, '😭': 5, '😤': 1, '✏': 1, '💜': 4, '🙄': 1, '🦦': 1, '🇹': 1, '💋': 1, '⚡': 1, '😺': 1, '😡': 1, '🤭': 2, '❤': 6, '🗼': 2, '😱': 1, '🇫': 8, '💙': 1, '🏻': 2, '🙏': 2, '🖤': 2, '😢': 1, '🌃': 1, '✨': 3, '🇷': 9, '🏽': 1, '✈': 1, '😩': 1, '🐭': 1, '🐾': 1, '🤦': 1, '💀': 2, '♀': 1, '🥰': 3, '🏰': 1, '💫': 1, '😉': 1, '🥶': 1, '🌉': 1, '🤣': 5, '❄': 2, '💛': 1, '...</td>\n",
       "      <td>3.390625</td>\n",
       "    </tr>\n",
       "    <tr>\n",
       "      <th>1</th>\n",
       "      <td>Cairo, Egypt</td>\n",
       "      <td>Great Pyramid of Giza</td>\n",
       "      <td>Landmark</td>\n",
       "      <td>29.9792</td>\n",
       "      <td>31.1342</td>\n",
       "      <td>{'🏟': 1, '😍': 6, '💪': 3, '🌞': 7, '🇦': 2, '🇪': 22, '🥇': 2, '🇹': 1, '🚶': 1, '🇲': 1, '⚡': 3, '🏾': 1, '🇬': 22, '🐪': 4, '📍': 1, '❤': 8, '😱': 2, '🇫': 2, '🐑': 1, '💙': 4, '😁': 1, '🏻': 3, '🧿': 1, '🖤': 2, '⚱': 1, '🤯': 1, '🍁': 1, '📷': 4, '💨': 2, '🌹': 2, '🇺': 2, '♂': 6, '🥘': 1, '💡': 1, '🏅': 3, '🇨': 2, '✨': 3, '🇷': 2, '🧳': 2, '✈': 3, '🏃': 1, '🏽': 2, '📺': 1,...</td>\n",
       "      <td>3.795359</td>\n",
       "    </tr>\n",
       "    <tr>\n",
       "      <th>2</th>\n",
       "      <td>Rome, Italy</td>\n",
       "      <td>Colosseum</td>\n",
       "      <td>Landmark</td>\n",
       "      <td>41.8902</td>\n",
       "      <td>12.4922</td>\n",
       "      <td>{'🏟': 2, '💪': 2, '🌌': 1, '🇹': 33, '🥵': 1, '🎊': 1, '📸': 3, '💚': 1, '♂': 1, '💩': 1, '✨': 5, '🏽': 2, '✈': 1, '🇵': 2, '🌍': 3, '🛫': 1, '♀': 2, '🎄': 6, '😆': 1, '🚫': 1, '🤣': 1, '🏼': 4, '😱': 1, '😎': 2, '🕺': 1, '😂': 2, '🐱': 1, '🇪': 1, '📍': 1, '👋': 2, '❤': 11, '🏡': 1, '🙏': 6, '📷': 3, '⏰': 1, '🏃': 1, '🌏': 1, '🙈': 2, '🕵': 1, '🇮': 34, '🇰': 2, '🍀': 1, '🌇': 3...</td>\n",
       "      <td>3.347505</td>\n",
       "    </tr>\n",
       "    <tr>\n",
       "      <th>3</th>\n",
       "      <td>Peru</td>\n",
       "      <td>Machu Picchu</td>\n",
       "      <td>Landmark</td>\n",
       "      <td>-13.163068</td>\n",
       "      <td>-72.545128</td>\n",
       "      <td>{'✅': 4, '😍': 3, '😭': 1, '🇦': 1, '🇪': 8, '😅': 1, '👧': 1, '💜': 1, '✏': 1, '⛰': 1, '🌈': 1, '🇲': 1, '📍': 2, '🏾': 1, '😺': 1, '❤': 9, '🏐': 1, '🌟': 1, '💙': 1, '😁': 1, '⬅': 1, '📸': 2, '🔥': 2, '🤩': 5, '🦙': 5, '🤯': 2, '🇽': 1, '🇱': 1, '💚': 1, '📷': 4, '🌶': 1, '♂': 1, '🇨': 2, '🤫': 2, '☑': 1, '🇷': 1, '☀': 1, '🏽': 1, '👉': 2, '✈': 1, '🇴': 1, '❓': 1, '🇵': 8, '...</td>\n",
       "      <td>3.438813</td>\n",
       "    </tr>\n",
       "    <tr>\n",
       "      <th>4</th>\n",
       "      <td>New York, USA</td>\n",
       "      <td>Statue of Liberty</td>\n",
       "      <td>Landmark</td>\n",
       "      <td>40.6892</td>\n",
       "      <td>-74.0445</td>\n",
       "      <td>{'💪': 2, '😅': 2, '⬛': 17, '🛍': 1, '📸': 2, '🎷': 1, '🎆': 1, '🇳': 21, '💞': 1, '🇺': 25, '✨': 2, '🇷': 1, '✈': 1, '➡': 2, '✋': 1, '🤦': 1, '♀': 2, '👌': 1, '🎄': 3, '🐎': 1, '🤤': 1, '☹': 1, '🇩': 1, '®': 1, '🤣': 7, '🏼': 5, '➖': 2, '😱': 2, '👇': 8, '👮': 1, '😂': 64, '👁': 2, '😭': 7, '🐴': 4, '🇪': 2, '🎚': 2, '👋': 3, '❤': 18, '🍕': 1, '🙌': 1, '🙏': 9, '🔥': 9, '🧐':...</td>\n",
       "      <td>3.747852</td>\n",
       "    </tr>\n",
       "  </tbody>\n",
       "</table>\n",
       "</div>"
      ],
      "text/plain": [
       "               0                      1         2           3           4  \\\n",
       "0  Paris, France           Eiffel Tower  Landmark     48.8584      2.2945   \n",
       "1   Cairo, Egypt  Great Pyramid of Giza  Landmark     29.9792     31.1342   \n",
       "2    Rome, Italy              Colosseum  Landmark     41.8902     12.4922   \n",
       "3           Peru           Machu Picchu  Landmark  -13.163068  -72.545128   \n",
       "4  New York, USA      Statue of Liberty  Landmark     40.6892    -74.0445   \n",
       "\n",
       "                                                                                                                                                                                                                                                                                                                                                               5  \\\n",
       "0  {'✅': 2, '😍': 4, '😭': 5, '😤': 1, '✏': 1, '💜': 4, '🙄': 1, '🦦': 1, '🇹': 1, '💋': 1, '⚡': 1, '😺': 1, '😡': 1, '🤭': 2, '❤': 6, '🗼': 2, '😱': 1, '🇫': 8, '💙': 1, '🏻': 2, '🙏': 2, '🖤': 2, '😢': 1, '🌃': 1, '✨': 3, '🇷': 9, '🏽': 1, '✈': 1, '😩': 1, '🐭': 1, '🐾': 1, '🤦': 1, '💀': 2, '♀': 1, '🥰': 3, '🏰': 1, '💫': 1, '😉': 1, '🥶': 1, '🌉': 1, '🤣': 5, '❄': 2, '💛': 1, '...   \n",
       "1  {'🏟': 1, '😍': 6, '💪': 3, '🌞': 7, '🇦': 2, '🇪': 22, '🥇': 2, '🇹': 1, '🚶': 1, '🇲': 1, '⚡': 3, '🏾': 1, '🇬': 22, '🐪': 4, '📍': 1, '❤': 8, '😱': 2, '🇫': 2, '🐑': 1, '💙': 4, '😁': 1, '🏻': 3, '🧿': 1, '🖤': 2, '⚱': 1, '🤯': 1, '🍁': 1, '📷': 4, '💨': 2, '🌹': 2, '🇺': 2, '♂': 6, '🥘': 1, '💡': 1, '🏅': 3, '🇨': 2, '✨': 3, '🇷': 2, '🧳': 2, '✈': 3, '🏃': 1, '🏽': 2, '📺': 1,...   \n",
       "2  {'🏟': 2, '💪': 2, '🌌': 1, '🇹': 33, '🥵': 1, '🎊': 1, '📸': 3, '💚': 1, '♂': 1, '💩': 1, '✨': 5, '🏽': 2, '✈': 1, '🇵': 2, '🌍': 3, '🛫': 1, '♀': 2, '🎄': 6, '😆': 1, '🚫': 1, '🤣': 1, '🏼': 4, '😱': 1, '😎': 2, '🕺': 1, '😂': 2, '🐱': 1, '🇪': 1, '📍': 1, '👋': 2, '❤': 11, '🏡': 1, '🙏': 6, '📷': 3, '⏰': 1, '🏃': 1, '🌏': 1, '🙈': 2, '🕵': 1, '🇮': 34, '🇰': 2, '🍀': 1, '🌇': 3...   \n",
       "3  {'✅': 4, '😍': 3, '😭': 1, '🇦': 1, '🇪': 8, '😅': 1, '👧': 1, '💜': 1, '✏': 1, '⛰': 1, '🌈': 1, '🇲': 1, '📍': 2, '🏾': 1, '😺': 1, '❤': 9, '🏐': 1, '🌟': 1, '💙': 1, '😁': 1, '⬅': 1, '📸': 2, '🔥': 2, '🤩': 5, '🦙': 5, '🤯': 2, '🇽': 1, '🇱': 1, '💚': 1, '📷': 4, '🌶': 1, '♂': 1, '🇨': 2, '🤫': 2, '☑': 1, '🇷': 1, '☀': 1, '🏽': 1, '👉': 2, '✈': 1, '🇴': 1, '❓': 1, '🇵': 8, '...   \n",
       "4  {'💪': 2, '😅': 2, '⬛': 17, '🛍': 1, '📸': 2, '🎷': 1, '🎆': 1, '🇳': 21, '💞': 1, '🇺': 25, '✨': 2, '🇷': 1, '✈': 1, '➡': 2, '✋': 1, '🤦': 1, '♀': 2, '👌': 1, '🎄': 3, '🐎': 1, '🤤': 1, '☹': 1, '🇩': 1, '®': 1, '🤣': 7, '🏼': 5, '➖': 2, '😱': 2, '👇': 8, '👮': 1, '😂': 64, '👁': 2, '😭': 7, '🐴': 4, '🇪': 2, '🎚': 2, '👋': 3, '❤': 18, '🍕': 1, '🙌': 1, '🙏': 9, '🔥': 9, '🧐':...   \n",
       "\n",
       "          6  \n",
       "0  3.390625  \n",
       "1  3.795359  \n",
       "2  3.347505  \n",
       "3  3.438813  \n",
       "4  3.747852  "
      ]
     },
     "execution_count": 77,
     "metadata": {},
     "output_type": "execute_result"
    }
   ],
   "source": [
    "import pandas as pd\n",
    "df = pd.DataFrame(masterlist)\n",
    "df.head()\n",
    "\n",
    "# headers = [\"Location\", \"Destination\", \"Type of Destination\", \"Latitude\", \"Longitude\", \"Emoji Dictionary\", \"Sentiment Score\"] \n",
    "\n",
    "##make csv file\n",
    "# df.to_csv(\"sophie.csv\", sep=',', header=headers, index=None)\n",
    "\n",
    "# masterlist[0]: Location\n",
    "# masterlist[1]: Destination name\n",
    "# masterlist[2]: Destination type\n",
    "# masterlist[3]: Latitude\n",
    "# masterlist[4]: Longitude\n",
    "# masterlist[5]: Emoji dictionary\n",
    "# masterlist[6]: Sentiment mean\n"
   ]
  },
  {
   "cell_type": "code",
   "execution_count": 78,
   "metadata": {
    "colab": {},
    "colab_type": "code",
    "id": "tZOrrFaWPDhD"
   },
   "outputs": [
    {
     "name": "stdout",
     "output_type": "stream",
     "text": [
      "Enter the emoji in text form (ex. grinning_face) or you could simply copy+paste it [ 😉]::grinning_face:\n",
      "Press 'q' to quit.\n",
      "=======================================================<>=====================================================\n",
      " \n",
      "\n",
      "The top destination that uses this emoji is the Table Mountain National Park, where it was used 5 times.\n",
      "\n",
      "The second most popular destination with this emoji is the Statue of Liberty, where it was used 1 times.\n",
      "\n",
      "Enter the emoji in text form (ex. grinning_face) or you could simply copy+paste it [ 😉]:q\n",
      "Press 'q' to quit.\n"
     ]
    }
   ],
   "source": [
    "emoji_search(masterlist)"
   ]
  },
  {
   "cell_type": "code",
   "execution_count": null,
   "metadata": {
    "colab": {},
    "colab_type": "code",
    "id": "6jiekF53PDhE"
   },
   "outputs": [],
   "source": [
    "YellowStone_tweets = extractFromJson(\"YellowStone2.json\")\n",
    "YellowStone_tweets = parse_tweets(YellowStone_tweets)\n"
   ]
  },
  {
   "cell_type": "code",
   "execution_count": null,
   "metadata": {
    "colab": {},
    "colab_type": "code",
    "id": "2JhmdEbFPDhG",
    "outputId": "b26c5f30-c95e-47a1-d0a2-ec679b219036"
   },
   "outputs": [],
   "source": [
    "testjson = extractFromJson(\"YellowStone2.json\") #this contains the json\n",
    "testdf = parse_tweets(testjson) #turns it into a dataframe\n",
    "\n",
    "len(testdf)"
   ]
  },
  {
   "cell_type": "code",
   "execution_count": null,
   "metadata": {
    "colab": {},
    "colab_type": "code",
    "id": "39rKv-CjPDhJ",
    "outputId": "8d1285e0-a8c7-402a-8313-cf97cd1ef6b0"
   },
   "outputs": [],
   "source": [
    "import json\n",
    "\n",
    "testjson = extractFromJson(\"YellowStone2.json\") #this contains the json\n",
    "testdf = parse_tweets(testjson) #turns it into a dataframe\n",
    "\n",
    "testdf.drop_duplicates(subset=\"Text\", keep=\"first\", inplace=True)\n",
    "len(testdf)\n",
    "\n",
    "# testdf.head()\n",
    "\n",
    "\n",
    "# unique_stuff = { each['text'] : each for each in ds }.values()\n",
    "# uniquedata = pd.DataFrame(unique_stuff)"
   ]
  },
  {
   "cell_type": "code",
   "execution_count": null,
   "metadata": {
    "colab": {},
    "colab_type": "code",
    "id": "cvRsPCH1PDhL"
   },
   "outputs": [],
   "source": [
    "\"\"\"\n",
    "two search options:\n",
    "-by geocode: what are people feeling when they are actually at the location?\n",
    "-by keywords: what are people feeling when they mention the destination?\n",
    "\n",
    "how does sentiment differ between the two? emojis used?\n",
    "\"\"\""
   ]
  },
  {
   "cell_type": "markdown",
   "metadata": {
    "colab_type": "text",
    "id": "YcBfnsd7PDhN"
   },
   "source": []
  },
  {
   "cell_type": "code",
   "execution_count": null,
   "metadata": {
    "colab": {},
    "colab_type": "code",
    "id": "V7ukrx55pj8s"
   },
   "outputs": [],
   "source": [
    "### Add a ']' in the end.\n"
   ]
  },
  {
   "cell_type": "code",
   "execution_count": null,
   "metadata": {
    "colab": {},
    "colab_type": "code",
    "id": "QRYD-iR3piCd"
   },
   "outputs": [],
   "source": [
    "def addlastbraq():\n",
    "#     path = \".//Desktop//Courses//202//Project//new_tweets\"\n",
    "#     file = os.listdir(path)\n",
    "    \n",
    "    for file in os.listdir(os.getcwd()): \n",
    "        if file.endswith(\".json\"):  #Check if the file name matches the 'prefix' pattern.\n",
    "#             f = open(file,'a')    #remove the comment to run it\n",
    "            f.write(\"]\")\n",
    "            f.close()\n",
    "    \n",
    "# addlastbraq()  #remove the comment to run it \n",
    "\n",
    "# os.getcwd()"
   ]
  },
  {
   "cell_type": "code",
   "execution_count": null,
   "metadata": {
    "colab": {},
    "colab_type": "code",
    "id": "ptlFYwpeppHS"
   },
   "outputs": [],
   "source": [
    "### Add a ']' in the end.\n",
    "\n",
    "\n",
    "def addlastcomma():\n",
    "#     path = \".//Desktop//Courses//202//Project//new_tweets\"\n",
    "#     file = os.listdir(path)\n",
    "    \n",
    "    for file in os.listdir(os.getcwd()): \n",
    "        if file.endswith(\".json\"):  #Check if the file name matches the 'prefix' pattern.\n",
    "#             f = open(file,'a')    #remove the comment to run it\n",
    "            f.write(\",\")\n",
    "            f.close()\n",
    "    \n",
    "# addlastcomma()  "
   ]
  },
  {
   "cell_type": "code",
   "execution_count": null,
   "metadata": {
    "colab": {},
    "colab_type": "code",
    "id": "EyEQ8eOHpwNh"
   },
   "outputs": [],
   "source": [
    "### Remove the final ']'  from the end of the json\n",
    "#### Only use when need be.\n",
    "\n",
    "def removelastbraq():\n",
    "#     path = \".//Desktop//Courses//202//Project//new_tweets\"\n",
    "#     file = os.listdir(path)\n",
    "    \n",
    "    for file in os.listdir(os.getcwd()): \n",
    "        if file.endswith(\".json\"):  #Check if the file name matches the 'prefix' pattern.\n",
    "#             f = open(file,'a')    #remove the comment to run it \n",
    "            f.seek(0, os.SEEK_END)\n",
    "            f.seek(f.tell() - 1, os.SEEK_SET)\n",
    "            f.truncate()\n",
    "        \n",
    "            f.close()\n",
    "    \n",
    "    \n",
    "# removelastbraq() #remove the comment to run it \n",
    "\n",
    "# os.getcwd()"
   ]
  },
  {
   "cell_type": "markdown",
   "metadata": {},
   "source": [
    "## Main function\n",
    "###### Magical place :D "
   ]
  },
  {
   "cell_type": "code",
   "execution_count": 79,
   "metadata": {},
   "outputs": [],
   "source": [
    "def dest_options(index):\n",
    "    \n",
    "    df = destinationlist[index]\n",
    "    name = masterlist[index][1]\n",
    "    emo_dict = masterlist[index][5]\n",
    "    \n",
    "    score = Final_senti_score(df)\n",
    "    print(\"\\n \\n The overall sentiment for tweets in the last week associated with\" ,name, \" is -> \\n \\t\\t\\t>>>>>\", score, \"<<<<<\\n \\n\")\n",
    "    print(\"Range : 1 [Negetive] ;  2 [Slightly Negetive] ; 3 [Neutral] ; 4 [Slightly Positive] ; 5 [Positive] \")\n",
    "    \n",
    "    print(\"=======================================================<>=====================================================\")\n",
    "    print(\"\\nWhat would you like to know more about ? \\n\")\n",
    "    \n",
    "    In = int(input(\"\\n 1. How people feel when they visit the place vs. When they are talking about the place \\n \\\n",
    "               \\n 2. Top 'Emojis' used at this place \\n \\\n",
    "               \\n 3. How people feel at different times of the day (Is there a pattern here 0.o) \\n \\\n",
    "               \\n 4. Top Tweets - Positive and Negative \\n \\n\"))\n",
    "              # \\n 5. How tourists vs. non-tourists feel? \\n \")   #Not using this anymore.\n",
    "    print (\"\\n Choose a numerical value : \")\n",
    "    \n",
    "    if (In == 1):\n",
    "        senti_hist_LocandKey(df)  # Plotting the histrogram here for loc vs key.\n",
    "        \n",
    "    elif In == 2:         ##Top 5 emojis\n",
    "        top5emoji(emo_dict)\n",
    "        \n",
    "    elif In == 3:         # Scatterplot function. \n",
    "  \n",
    "        print(scatterplot_time(df))\n",
    "        \n",
    "    elif In == 4:          #Choosing top tweets \n",
    "        newinput = int(input(\"\\n 1. Top Negative Tweets \\n \\\n",
    "                          \\n 2. Top Positive Tweets \"))\n",
    "        \n",
    "        if newinput == 1:\n",
    "            toptweets_negative(df)\n",
    "            #Negetive Function \n",
    "            \n",
    "        else:\n",
    "            #Positive Function \n",
    "            toptweets_positive(df)\n",
    "    "
   ]
  },
  {
   "cell_type": "code",
   "execution_count": 84,
   "metadata": {},
   "outputs": [],
   "source": [
    "    \n",
    "def main():\n",
    "    \n",
    "    \n",
    "    i = True #Index to maintain the repitition of questions untill False.\n",
    "    \n",
    "    while(i):\n",
    "         #Sentiment map \n",
    "        print(sentiment_map())\n",
    "        print(\"Hello there!!\")\n",
    "        print(\"Curious to learn about how places evoke emotion? \\n We have captured every single Emoti(c)on for you, in some of the world's most famous places!\\n\")\n",
    "        print(\"=======================================================<>=====================================================\")\n",
    "        InputCom = input(\"What would you like to see? (enter a numerical value): \\n \\n  >> 1. Based on a travel Destination \\n  >> 2. Based on Emotion \\n  >> 3. Quit ('q' or 'Q') \\n\\n\")\n",
    "\n",
    "        # To Quit\n",
    "        if ( InputCom == \"q\" or InputCom == \"Q\"):\n",
    "            \n",
    "            print(\"One last treat for you!\\n\")\n",
    "            attractiontype_map()\n",
    "            print(\"\\n Thank you for your time.\") \n",
    "            i = False #Break the loop and exit the program.\n",
    "\n",
    "        # Based on Destination \n",
    "        elif ( str(InputCom) == \"1\"):                           \n",
    "            print(\"Pick a place: \\n\")\n",
    "            for i in range(len(masterlist)):         #Returning only the names of the dest. along with their index.\n",
    "                print(\" \", i ,\" <-\" , masterlist[i][1]) \n",
    "\n",
    "            print(\"=======================================================<>=====================================================\")\n",
    "            InputCom = int(input(\"\\n Enter the 'index' of the destination : \"))\n",
    "            bo = True\n",
    "            while(bo):\n",
    "                dest_options(InputCom)\n",
    "                print(\"=======================================================<>=====================================================\")\n",
    "                In = input(\"Do you wish to seek additional information about this destination? [Y / N ]\")\n",
    "                if (In == 'N' or In == 'n'):\n",
    "                    bo = False;\n",
    "\n",
    "\n",
    "        ## Done with searching by Destination.\n",
    "        ##This is for searching by 'Feeling'\n",
    "\n",
    "        else:\n",
    "            #displaying the overall sentiment : \n",
    "            Sum = 0.0\n",
    "            for dest in destinationlist:\n",
    "                Sum += Final_senti_score(dest)\n",
    "            print(\"\\n The average overall sentiment [out of 5] across all the places from our dataset is : \\n >>>>>>> \", Sum/20, \" <<<<<<<<\\n\")\n",
    "\n",
    "\n",
    "            print(\"=======================================================<>=====================================================\")\n",
    "            print(\"\\nWhat do the Emoticons reflect about these destinations? \\n\")\n",
    "            print(\"Here's a list of popular emojis you can copy & paste: \\n\")\n",
    "            print(emoji.emojize(\":heart_eyes:\", use_aliases=True))\n",
    "            print(emoji.emojize(\":kissing_heart:\", use_aliases=True))\n",
    "            print(emoji.emojize(\":blush:\", use_aliases=True))\n",
    "            print(emoji.emojize(\":wink:\", use_aliases=True))\n",
    "            print(emoji.emojize(\":stuck_out_tongue_winking_eye:\", use_aliases=True))\n",
    "            print(emoji.emojize(\":joy:\", use_aliases=True))\n",
    "            print(emoji.emojize(\":yum:\", use_aliases=True))\n",
    "                \n",
    "            emoji_search(masterlist)\n",
    "            print(\"=======================================================<>=====================================================\")\n",
    "\n",
    "            "
   ]
  },
  {
   "cell_type": "code",
   "execution_count": 85,
   "metadata": {},
   "outputs": [
    {
     "data": {
      "image/png": "[encoded data removed]",
      "text/plain": [
       "<Figure size 1440x504 with 2 Axes>"
      ]
     },
     "metadata": {
      "needs_background": "light"
     },
     "output_type": "display_data"
    },
    {
     "name": "stdout",
     "output_type": "stream",
     "text": [
      "None\n",
      "Hello there!!\n",
      "Curious to learn about how places evoke emotion? \n",
      " We have captured every single Emoti(c)on for you, in some of the world's most famous places!\n",
      "\n",
      "=======================================================<>=====================================================\n"
     ]
    },
    {
     "ename": "KeyboardInterrupt",
     "evalue": "",
     "output_type": "error",
     "traceback": [
      "\u001b[0;31m---------------------------------------------------------------------------\u001b[0m",
      "\u001b[0;31mKeyboardInterrupt\u001b[0m                         Traceback (most recent call last)",
      "\u001b[0;32m/Library/Frameworks/Python.framework/Versions/3.7/lib/python3.7/site-packages/ipykernel/kernelbase.py\u001b[0m in \u001b[0;36m_input_request\u001b[0;34m(self, prompt, ident, parent, password)\u001b[0m\n\u001b[1;32m    884\u001b[0m             \u001b[0;32mtry\u001b[0m\u001b[0;34m:\u001b[0m\u001b[0;34m\u001b[0m\u001b[0;34m\u001b[0m\u001b[0m\n\u001b[0;32m--> 885\u001b[0;31m                 \u001b[0mident\u001b[0m\u001b[0;34m,\u001b[0m \u001b[0mreply\u001b[0m \u001b[0;34m=\u001b[0m \u001b[0mself\u001b[0m\u001b[0;34m.\u001b[0m\u001b[0msession\u001b[0m\u001b[0;34m.\u001b[0m\u001b[0mrecv\u001b[0m\u001b[0;34m(\u001b[0m\u001b[0mself\u001b[0m\u001b[0;34m.\u001b[0m\u001b[0mstdin_socket\u001b[0m\u001b[0;34m,\u001b[0m \u001b[0;36m0\u001b[0m\u001b[0;34m)\u001b[0m\u001b[0;34m\u001b[0m\u001b[0;34m\u001b[0m\u001b[0m\n\u001b[0m\u001b[1;32m    886\u001b[0m             \u001b[0;32mexcept\u001b[0m \u001b[0mException\u001b[0m\u001b[0;34m:\u001b[0m\u001b[0;34m\u001b[0m\u001b[0;34m\u001b[0m\u001b[0m\n",
      "\u001b[0;32m/Library/Frameworks/Python.framework/Versions/3.7/lib/python3.7/site-packages/jupyter_client/session.py\u001b[0m in \u001b[0;36mrecv\u001b[0;34m(self, socket, mode, content, copy)\u001b[0m\n\u001b[1;32m    802\u001b[0m         \u001b[0;32mtry\u001b[0m\u001b[0;34m:\u001b[0m\u001b[0;34m\u001b[0m\u001b[0;34m\u001b[0m\u001b[0m\n\u001b[0;32m--> 803\u001b[0;31m             \u001b[0mmsg_list\u001b[0m \u001b[0;34m=\u001b[0m \u001b[0msocket\u001b[0m\u001b[0;34m.\u001b[0m\u001b[0mrecv_multipart\u001b[0m\u001b[0;34m(\u001b[0m\u001b[0mmode\u001b[0m\u001b[0;34m,\u001b[0m \u001b[0mcopy\u001b[0m\u001b[0;34m=\u001b[0m\u001b[0mcopy\u001b[0m\u001b[0;34m)\u001b[0m\u001b[0;34m\u001b[0m\u001b[0;34m\u001b[0m\u001b[0m\n\u001b[0m\u001b[1;32m    804\u001b[0m         \u001b[0;32mexcept\u001b[0m \u001b[0mzmq\u001b[0m\u001b[0;34m.\u001b[0m\u001b[0mZMQError\u001b[0m \u001b[0;32mas\u001b[0m \u001b[0me\u001b[0m\u001b[0;34m:\u001b[0m\u001b[0;34m\u001b[0m\u001b[0;34m\u001b[0m\u001b[0m\n",
      "\u001b[0;32m/Library/Frameworks/Python.framework/Versions/3.7/lib/python3.7/site-packages/zmq/sugar/socket.py\u001b[0m in \u001b[0;36mrecv_multipart\u001b[0;34m(self, flags, copy, track)\u001b[0m\n\u001b[1;32m    474\u001b[0m         \"\"\"\n\u001b[0;32m--> 475\u001b[0;31m         \u001b[0mparts\u001b[0m \u001b[0;34m=\u001b[0m \u001b[0;34m[\u001b[0m\u001b[0mself\u001b[0m\u001b[0;34m.\u001b[0m\u001b[0mrecv\u001b[0m\u001b[0;34m(\u001b[0m\u001b[0mflags\u001b[0m\u001b[0;34m,\u001b[0m \u001b[0mcopy\u001b[0m\u001b[0;34m=\u001b[0m\u001b[0mcopy\u001b[0m\u001b[0;34m,\u001b[0m \u001b[0mtrack\u001b[0m\u001b[0;34m=\u001b[0m\u001b[0mtrack\u001b[0m\u001b[0;34m)\u001b[0m\u001b[0;34m]\u001b[0m\u001b[0;34m\u001b[0m\u001b[0;34m\u001b[0m\u001b[0m\n\u001b[0m\u001b[1;32m    476\u001b[0m         \u001b[0;31m# have first part already, only loop while more to receive\u001b[0m\u001b[0;34m\u001b[0m\u001b[0;34m\u001b[0m\u001b[0;34m\u001b[0m\u001b[0m\n",
      "\u001b[0;32mzmq/backend/cython/socket.pyx\u001b[0m in \u001b[0;36mzmq.backend.cython.socket.Socket.recv\u001b[0;34m()\u001b[0m\n",
      "\u001b[0;32mzmq/backend/cython/socket.pyx\u001b[0m in \u001b[0;36mzmq.backend.cython.socket.Socket.recv\u001b[0;34m()\u001b[0m\n",
      "\u001b[0;32mzmq/backend/cython/socket.pyx\u001b[0m in \u001b[0;36mzmq.backend.cython.socket._recv_copy\u001b[0;34m()\u001b[0m\n",
      "\u001b[0;32m/Library/Frameworks/Python.framework/Versions/3.7/lib/python3.7/site-packages/zmq/backend/cython/checkrc.pxd\u001b[0m in \u001b[0;36mzmq.backend.cython.checkrc._check_rc\u001b[0;34m()\u001b[0m\n",
      "\u001b[0;31mKeyboardInterrupt\u001b[0m: ",
      "\nDuring handling of the above exception, another exception occurred:\n",
      "\u001b[0;31mKeyboardInterrupt\u001b[0m                         Traceback (most recent call last)",
      "\u001b[0;32m<ipython-input-85-263240bbee7e>\u001b[0m in \u001b[0;36m<module>\u001b[0;34m\u001b[0m\n\u001b[0;32m----> 1\u001b[0;31m \u001b[0mmain\u001b[0m\u001b[0;34m(\u001b[0m\u001b[0;34m)\u001b[0m\u001b[0;34m\u001b[0m\u001b[0;34m\u001b[0m\u001b[0m\n\u001b[0m",
      "\u001b[0;32m<ipython-input-84-a64667f27cba>\u001b[0m in \u001b[0;36mmain\u001b[0;34m()\u001b[0m\n\u001b[1;32m     10\u001b[0m         \u001b[0mprint\u001b[0m\u001b[0;34m(\u001b[0m\u001b[0;34m\"Curious to learn about how places evoke emotion? \\n We have captured every single Emoti(c)on for you, in some of the world's most famous places!\\n\"\u001b[0m\u001b[0;34m)\u001b[0m\u001b[0;34m\u001b[0m\u001b[0;34m\u001b[0m\u001b[0m\n\u001b[1;32m     11\u001b[0m         \u001b[0mprint\u001b[0m\u001b[0;34m(\u001b[0m\u001b[0;34m\"=======================================================<>=====================================================\"\u001b[0m\u001b[0;34m)\u001b[0m\u001b[0;34m\u001b[0m\u001b[0;34m\u001b[0m\u001b[0m\n\u001b[0;32m---> 12\u001b[0;31m         \u001b[0mInputCom\u001b[0m \u001b[0;34m=\u001b[0m \u001b[0minput\u001b[0m\u001b[0;34m(\u001b[0m\u001b[0;34m\"What would you like to see? (enter a numerical value): \\n \\n  >> 1. Based on a travel 'Destination' \\n  >> 2. Based on Emotion \\n  >> 3. Quit ('q' or 'Q') \\n\\n\"\u001b[0m\u001b[0;34m)\u001b[0m\u001b[0;34m\u001b[0m\u001b[0;34m\u001b[0m\u001b[0m\n\u001b[0m\u001b[1;32m     13\u001b[0m \u001b[0;34m\u001b[0m\u001b[0m\n\u001b[1;32m     14\u001b[0m         \u001b[0;31m# To Quit\u001b[0m\u001b[0;34m\u001b[0m\u001b[0;34m\u001b[0m\u001b[0;34m\u001b[0m\u001b[0m\n",
      "\u001b[0;32m/Library/Frameworks/Python.framework/Versions/3.7/lib/python3.7/site-packages/ipykernel/kernelbase.py\u001b[0m in \u001b[0;36mraw_input\u001b[0;34m(self, prompt)\u001b[0m\n\u001b[1;32m    858\u001b[0m             \u001b[0mself\u001b[0m\u001b[0;34m.\u001b[0m\u001b[0m_parent_ident\u001b[0m\u001b[0;34m,\u001b[0m\u001b[0;34m\u001b[0m\u001b[0;34m\u001b[0m\u001b[0m\n\u001b[1;32m    859\u001b[0m             \u001b[0mself\u001b[0m\u001b[0;34m.\u001b[0m\u001b[0m_parent_header\u001b[0m\u001b[0;34m,\u001b[0m\u001b[0;34m\u001b[0m\u001b[0;34m\u001b[0m\u001b[0m\n\u001b[0;32m--> 860\u001b[0;31m             \u001b[0mpassword\u001b[0m\u001b[0;34m=\u001b[0m\u001b[0;32mFalse\u001b[0m\u001b[0;34m,\u001b[0m\u001b[0;34m\u001b[0m\u001b[0;34m\u001b[0m\u001b[0m\n\u001b[0m\u001b[1;32m    861\u001b[0m         )\n\u001b[1;32m    862\u001b[0m \u001b[0;34m\u001b[0m\u001b[0m\n",
      "\u001b[0;32m/Library/Frameworks/Python.framework/Versions/3.7/lib/python3.7/site-packages/ipykernel/kernelbase.py\u001b[0m in \u001b[0;36m_input_request\u001b[0;34m(self, prompt, ident, parent, password)\u001b[0m\n\u001b[1;32m    888\u001b[0m             \u001b[0;32mexcept\u001b[0m \u001b[0mKeyboardInterrupt\u001b[0m\u001b[0;34m:\u001b[0m\u001b[0;34m\u001b[0m\u001b[0;34m\u001b[0m\u001b[0m\n\u001b[1;32m    889\u001b[0m                 \u001b[0;31m# re-raise KeyboardInterrupt, to truncate traceback\u001b[0m\u001b[0;34m\u001b[0m\u001b[0;34m\u001b[0m\u001b[0;34m\u001b[0m\u001b[0m\n\u001b[0;32m--> 890\u001b[0;31m                 \u001b[0;32mraise\u001b[0m \u001b[0mKeyboardInterrupt\u001b[0m\u001b[0;34m\u001b[0m\u001b[0;34m\u001b[0m\u001b[0m\n\u001b[0m\u001b[1;32m    891\u001b[0m             \u001b[0;32melse\u001b[0m\u001b[0;34m:\u001b[0m\u001b[0;34m\u001b[0m\u001b[0;34m\u001b[0m\u001b[0m\n\u001b[1;32m    892\u001b[0m                 \u001b[0;32mbreak\u001b[0m\u001b[0;34m\u001b[0m\u001b[0;34m\u001b[0m\u001b[0m\n",
      "\u001b[0;31mKeyboardInterrupt\u001b[0m: "
     ]
    }
   ],
   "source": [
    "      \n",
    "main()"
   ]
  },
  {
   "cell_type": "code",
   "execution_count": null,
   "metadata": {},
   "outputs": [],
   "source": []
  }
 ],
 "metadata": {
  "colab": {
   "collapsed_sections": [
    "iSab3oH0PDgp"
   ],
   "name": "updated file 12-11.ipynb",
   "provenance": []
  },
  "kernelspec": {
   "display_name": "Python 3",
   "language": "python",
   "name": "python3"
  },
  "language_info": {
   "codemirror_mode": {
    "name": "ipython",
    "version": 3
   },
   "file_extension": ".py",
   "mimetype": "text/x-python",
   "name": "python",
   "nbconvert_exporter": "python",
   "pygments_lexer": "ipython3",
   "version": "3.7.4"
  }
 },
 "nbformat": 4,
 "nbformat_minor": 1
}
